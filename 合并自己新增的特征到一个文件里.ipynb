{
 "cells": [
  {
   "cell_type": "code",
   "execution_count": 1,
   "metadata": {
    "collapsed": true
   },
   "outputs": [],
   "source": [
    "#coding:utf-8\n",
    "import pandas as pd\n",
    "import time\n",
    "\n",
    "from sklearn.metrics import log_loss\n",
    "import pandas as pd\n",
    "import numpy as np\n",
    "import seaborn as sns\n",
    "import matplotlib.pyplot as plt\n",
    "%matplotlib inline\n",
    "from scipy import stats\n",
    "from scipy.stats import norm, skew #加载一些统计的库"
   ]
  },
  {
   "cell_type": "code",
   "execution_count": 19,
   "metadata": {
    "collapsed": true
   },
   "outputs": [],
   "source": [
    "# dataa = pd.read_csv('1234.csv',index_col=False)\n",
    "datab = pd.read_csv('train_category.csv',index_col=False)\n",
    "datac = pd.read_csv('train_hour.csv',index_col=False)\n",
    "datad = pd.read_csv('train_item_click.csv',index_col=False)\n",
    "datae = pd.read_csv('train_shop.csv',index_col=False)\n",
    "dataf = pd.read_csv('train_user_click.csv',index_col=False)\n",
    "datag = pd.read_csv('train_property_click.csv',index_col=False)\n",
    "datah = pd.read_csv('train_shop_id_click.csv',index_col=False)\n",
    "dataj = pd.read_csv('train_brand_click.csv',index_col=False)\n",
    "#add\n",
    "datak = pd.read_csv('train_user_clickpv.csv',index_col=False)\n",
    "datal = pd.read_csv('train_property_0_pvnum.csv',index_col=False)\n",
    "datai = pd.read_csv('train_property_1_pvnum.csv',index_col=False)\n",
    "datao = pd.read_csv('train_property_2_pvnum.csv',index_col=False)\n",
    "datap = pd.read_csv('train_item_id_pvnum.csv',index_col=False)"
   ]
  },
  {
   "cell_type": "code",
   "execution_count": 20,
   "metadata": {
    "scrolled": true
   },
   "outputs": [],
   "source": [
    "datab = datab.rename(columns=({'item_category_list':'item_category_list_num'}))\n",
    "datab = datab.rename(columns=({'item_property_list':'item_property_list_num'}))"
   ]
  },
  {
   "cell_type": "code",
   "execution_count": 21,
   "metadata": {
    "collapsed": true
   },
   "outputs": [],
   "source": [
    "all_data = datab\n",
    "all_data = pd.merge(all_data,datac,on=['instance_id'],how='left')\n",
    "all_data = pd.merge(all_data,datad,on=['instance_id'],how='left')\n",
    "all_data = pd.merge(all_data,datae,on=['instance_id'],how='left')\n",
    "all_data = pd.merge(all_data,dataf,on=['instance_id'],how='left')\n",
    "all_data = pd.merge(all_data,datag,on=['instance_id'],how='left')\n",
    "all_data = pd.merge(all_data,datah,on=['instance_id'],how='left')\n",
    "all_data = pd.merge(all_data,dataj,on=['instance_id'],how='left')\n",
    "# add\n",
    "all_data = pd.merge(all_data,datak,on=['instance_id'],how='left')\n",
    "all_data = pd.merge(all_data,datal,on=['instance_id'],how='left')\n",
    "all_data = pd.merge(all_data,datai,on=['instance_id'],how='left')\n",
    "all_data = pd.merge(all_data,datao,on=['instance_id'],how='left')\n",
    "all_data = pd.merge(all_data,datap,on=['instance_id'],how='left')"
   ]
  },
  {
   "cell_type": "code",
   "execution_count": 22,
   "metadata": {
    "scrolled": false
   },
   "outputs": [
    {
     "data": {
      "text/plain": [
       "(478087, 20)"
      ]
     },
     "execution_count": 22,
     "metadata": {},
     "output_type": "execute_result"
    }
   ],
   "source": [
    "all_data.shape"
   ]
  },
  {
   "cell_type": "code",
   "execution_count": null,
   "metadata": {
    "scrolled": true
   },
   "outputs": [],
   "source": []
  },
  {
   "cell_type": "code",
   "execution_count": 23,
   "metadata": {
    "collapsed": true,
    "scrolled": true
   },
   "outputs": [],
   "source": [
    "all_data.to_csv('train_all.csv',index=False)"
   ]
  },
  {
   "cell_type": "code",
   "execution_count": null,
   "metadata": {
    "collapsed": true
   },
   "outputs": [],
   "source": []
  },
  {
   "cell_type": "code",
   "execution_count": 24,
   "metadata": {
    "collapsed": true
   },
   "outputs": [],
   "source": [
    "# data2a = pd.read_csv('456.csv',index_col=False)\n",
    "data2b = pd.read_csv('test_category.csv',index_col=False)\n",
    "data2c = pd.read_csv('test_hour.csv',index_col=False)\n",
    "data2d = pd.read_csv('test_item_click.csv',index_col=False)\n",
    "data2e = pd.read_csv('test_shop.csv',index_col=False)\n",
    "data2f = pd.read_csv('test_user_click.csv',index_col=False)\n",
    "data2g = pd.read_csv('test_property_click.csv',index_col=False)\n",
    "data2h = pd.read_csv('test_shop_id_click.csv',index_col=False)\n",
    "data2j = pd.read_csv('test_brand_click.csv',index_col=False)\n",
    "#add\n",
    "data2k = pd.read_csv('train_user_clickpv.csv',index_col=False)\n",
    "data2l = pd.read_csv('train_property_0_pvnum.csv',index_col=False)\n",
    "data2i = pd.read_csv('train_property_1_pvnum.csv',index_col=False)\n",
    "data2o = pd.read_csv('train_property_2_pvnum.csv',index_col=False)\n",
    "data2p = pd.read_csv('train_item_id_pvnum.csv',index_col=False)"
   ]
  },
  {
   "cell_type": "code",
   "execution_count": 25,
   "metadata": {
    "collapsed": true
   },
   "outputs": [],
   "source": [
    "data2b = data2b.rename(columns=({'item_category_list':'item_category_list_num'}))\n",
    "data2b = data2b.rename(columns=({'item_property_list':'item_property_list_num'}))"
   ]
  },
  {
   "cell_type": "code",
   "execution_count": 26,
   "metadata": {
    "collapsed": true
   },
   "outputs": [],
   "source": [
    "all_data2 = data2b\n",
    "all_data2 = pd.merge(all_data2,data2c,on=['instance_id'],how='left')\n",
    "all_data2 = pd.merge(all_data2,data2d,on=['instance_id'],how='left')\n",
    "all_data2 = pd.merge(all_data2,data2e,on=['instance_id'],how='left')\n",
    "all_data2 = pd.merge(all_data2,data2f,on=['instance_id'],how='left')\n",
    "all_data2 = pd.merge(all_data2,data2g,on=['instance_id'],how='left')\n",
    "all_data2 = pd.merge(all_data2,data2h,on=['instance_id'],how='left')\n",
    "all_data2 = pd.merge(all_data2,data2j,on=['instance_id'],how='left')\n",
    "#add\n",
    "all_data2 = pd.merge(all_data2,data2k,on=['instance_id'],how='left')\n",
    "all_data2 = pd.merge(all_data2,data2l,on=['instance_id'],how='left')\n",
    "all_data2 = pd.merge(all_data2,data2i,on=['instance_id'],how='left')\n",
    "all_data2 = pd.merge(all_data2,data2o,on=['instance_id'],how='left')\n",
    "all_data2 = pd.merge(all_data2,data2p,on=['instance_id'],how='left')"
   ]
  },
  {
   "cell_type": "code",
   "execution_count": 27,
   "metadata": {
    "scrolled": true
   },
   "outputs": [
    {
     "data": {
      "text/plain": [
       "(18371, 20)"
      ]
     },
     "execution_count": 27,
     "metadata": {},
     "output_type": "execute_result"
    }
   ],
   "source": [
    "all_data2.shape"
   ]
  },
  {
   "cell_type": "code",
   "execution_count": null,
   "metadata": {
    "collapsed": true
   },
   "outputs": [],
   "source": []
  },
  {
   "cell_type": "code",
   "execution_count": 28,
   "metadata": {
    "collapsed": true
   },
   "outputs": [],
   "source": [
    "all_data2.to_csv('test_all.csv',index=False)"
   ]
  },
  {
   "cell_type": "code",
   "execution_count": null,
   "metadata": {
    "collapsed": true,
    "scrolled": true
   },
   "outputs": [],
   "source": []
  },
  {
   "cell_type": "code",
   "execution_count": null,
   "metadata": {
    "collapsed": true
   },
   "outputs": [],
   "source": []
  }
 ],
 "metadata": {
  "kernelspec": {
   "display_name": "Python 3",
   "language": "python",
   "name": "python3"
  },
  "language_info": {
   "codemirror_mode": {
    "name": "ipython",
    "version": 3
   },
   "file_extension": ".py",
   "mimetype": "text/x-python",
   "name": "python",
   "nbconvert_exporter": "python",
   "pygments_lexer": "ipython3",
   "version": "3.6.3"
  }
 },
 "nbformat": 4,
 "nbformat_minor": 2
}
