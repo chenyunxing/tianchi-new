{
 "cells": [
  {
   "cell_type": "code",
   "execution_count": 3,
   "metadata": {
    "collapsed": true
   },
   "outputs": [],
   "source": [
    "#coding:utf-8\n",
    "import pandas as pd\n",
    "import time\n",
    "\n",
    "from sklearn.metrics import log_loss\n",
    "# instance_id 样本编号\n",
    "# item_id 广告商品编号\n",
    "# item_category_list 广告商品的的类目列表 分割; item_property_list_0 item_property_list_1 item_property_list_2\n",
    "# item_property_list 广告商品的属性列表 分割 1 2 3\n",
    "# item_brand_id 广告商品的品牌编号\n",
    "# item_city_id 广告商品的城市编号\n",
    "# item_price_level 广告商品的价格等级\n",
    "# item_sales_level 广告商品的销量等级\n",
    "# item_collected_level 广告商品被收藏次数的等级\n",
    "# item_pv_level 广告商品被展示次数的等级\n",
    "# user_id 用户的编号\n",
    "# 'user_gender_id', 用户的预测性别编号\n",
    "# 'user_age_level', 用户的预测年龄等级\n",
    "# 'user_occupation_id', 用户的预测职业编号\n",
    "# 'user_star_level' 用户的星级编号\n",
    "# context_id 上下文信息的编号\n",
    "#  context_timestamp 广告商品的展示时间\n",
    "# context_page_id 广告商品的展示页面编号\n",
    "# predict_category_property\n",
    "def time2cov(time_):\n",
    "    '''\n",
    "    时间是根据天数推移，所以日期为脱敏，但是时间本身不脱敏\n",
    "    :param time_: \n",
    "    :return: \n",
    "    '''\n",
    "    return time.strftime(\"%Y-%m-%d %H:%M:%S\",time.localtime(time_))\n",
    "\n",
    "def pre_process(data):\n",
    "    '''\n",
    "    :param data: \n",
    "    :return: \n",
    "    '''\n",
    "\n",
    "    print('预处理')\n",
    "    print('context_timestamp_ing')\n",
    "    data['context_timestamp'] = data['context_timestamp'].apply(time2cov)\n",
    "\n",
    "    print('time')\n",
    "    data['context_timestamp_tmp'] = pd.to_datetime(data['context_timestamp'])\n",
    "    return data\n",
    "\n"
   ]
  },
  {
   "cell_type": "code",
   "execution_count": 18,
   "metadata": {},
   "outputs": [
    {
     "name": "stdout",
     "output_type": "stream",
     "text": [
      "train\n",
      "预处理\n",
      "context_timestamp_ing\n",
      "time\n"
     ]
    }
   ],
   "source": [
    "print('train')\n",
    "train = pd.read_csv('train.csv',index_col=False)\n",
    "train = pre_process(train)\n",
    "\n"
   ]
  },
  {
   "cell_type": "code",
   "execution_count": 19,
   "metadata": {},
   "outputs": [
    {
     "name": "stdout",
     "output_type": "stream",
     "text": [
      "2018-09-18 00:00:01\n",
      "2018-09-24 23:59:47\n"
     ]
    }
   ],
   "source": [
    "print(train['context_timestamp'].min())\n",
    "print(train['context_timestamp'].max())"
   ]
  },
  {
   "cell_type": "code",
   "execution_count": 21,
   "metadata": {},
   "outputs": [
    {
     "name": "stdout",
     "output_type": "stream",
     "text": [
      "(420693, 28)\n"
     ]
    }
   ],
   "source": [
    "all_data = train.copy()\n",
    "val = train[train['context_timestamp']>='2018-09-24 00:00:00']\n",
    "train = train[train['context_timestamp']<'2018-09-24 00:00:00']\n",
    "print(train.shape)\n"
   ]
  },
  {
   "cell_type": "code",
   "execution_count": 22,
   "metadata": {},
   "outputs": [
    {
     "data": {
      "text/plain": [
       "(57418, 28)"
      ]
     },
     "execution_count": 22,
     "metadata": {},
     "output_type": "execute_result"
    }
   ],
   "source": [
    "val.shape"
   ]
  },
  {
   "cell_type": "code",
   "execution_count": 23,
   "metadata": {},
   "outputs": [
    {
     "data": {
      "text/plain": [
       "'2018-09-24 00:00:00'"
      ]
     },
     "execution_count": 23,
     "metadata": {},
     "output_type": "execute_result"
    }
   ],
   "source": [
    "val['context_timestamp'].min()"
   ]
  },
  {
   "cell_type": "code",
   "execution_count": 24,
   "metadata": {},
   "outputs": [
    {
     "data": {
      "text/plain": [
       "'2018-09-24 23:59:47'"
      ]
     },
     "execution_count": 24,
     "metadata": {},
     "output_type": "execute_result"
    }
   ],
   "source": [
    "val['context_timestamp'].max()"
   ]
  },
  {
   "cell_type": "code",
   "execution_count": 26,
   "metadata": {
    "scrolled": true
   },
   "outputs": [],
   "source": [
    "val.to_csv('24.csv',index=False)"
   ]
  },
  {
   "cell_type": "code",
   "execution_count": null,
   "metadata": {
    "collapsed": true
   },
   "outputs": [],
   "source": []
  },
  {
   "cell_type": "code",
   "execution_count": 27,
   "metadata": {},
   "outputs": [
    {
     "name": "stdout",
     "output_type": "stream",
     "text": [
      "2018-09-18 00:00:01\n",
      "2018-09-23 23:59:41\n"
     ]
    }
   ],
   "source": [
    "print(train['context_timestamp'].min())\n",
    "print(train['context_timestamp'].max())"
   ]
  },
  {
   "cell_type": "code",
   "execution_count": 28,
   "metadata": {},
   "outputs": [
    {
     "name": "stdout",
     "output_type": "stream",
     "text": [
      "(357082, 28)\n"
     ]
    }
   ],
   "source": [
    "all_data = train.copy()\n",
    "val = train[train['context_timestamp']>='2018-09-23 00:00:00']\n",
    "train = train[train['context_timestamp']<'2018-09-23 00:00:00']\n",
    "print(train.shape)\n"
   ]
  },
  {
   "cell_type": "code",
   "execution_count": 29,
   "metadata": {},
   "outputs": [
    {
     "data": {
      "text/plain": [
       "(63611, 28)"
      ]
     },
     "execution_count": 29,
     "metadata": {},
     "output_type": "execute_result"
    }
   ],
   "source": [
    "val.shape"
   ]
  },
  {
   "cell_type": "code",
   "execution_count": 30,
   "metadata": {},
   "outputs": [
    {
     "name": "stdout",
     "output_type": "stream",
     "text": [
      "2018-09-23 00:00:03\n",
      "2018-09-23 23:59:41\n"
     ]
    }
   ],
   "source": [
    "print(val['context_timestamp'].min())\n",
    "print(val['context_timestamp'].max())"
   ]
  },
  {
   "cell_type": "code",
   "execution_count": 31,
   "metadata": {
    "collapsed": true
   },
   "outputs": [],
   "source": [
    "val.to_csv('23.csv',index=False)"
   ]
  },
  {
   "cell_type": "code",
   "execution_count": null,
   "metadata": {
    "collapsed": true
   },
   "outputs": [],
   "source": []
  },
  {
   "cell_type": "code",
   "execution_count": 32,
   "metadata": {},
   "outputs": [
    {
     "name": "stdout",
     "output_type": "stream",
     "text": [
      "2018-09-18 00:00:01\n",
      "2018-09-22 23:59:46\n",
      "(288767, 28)\n",
      "(68315, 28)\n",
      "2018-09-22 00:00:01\n",
      "2018-09-22 23:59:46\n"
     ]
    }
   ],
   "source": [
    "print(train['context_timestamp'].min())\n",
    "print(train['context_timestamp'].max())\n",
    "all_data = train.copy()\n",
    "val = train[train['context_timestamp']>='2018-09-22 00:00:00']\n",
    "train = train[train['context_timestamp']<'2018-09-22 00:00:00']\n",
    "print(train.shape)\n",
    "print(val.shape)\n",
    "print(val['context_timestamp'].min())\n",
    "print(val['context_timestamp'].max())\n",
    "val.to_csv('22.csv',index=False)"
   ]
  },
  {
   "cell_type": "code",
   "execution_count": null,
   "metadata": {
    "collapsed": true
   },
   "outputs": [],
   "source": []
  },
  {
   "cell_type": "code",
   "execution_count": 33,
   "metadata": {},
   "outputs": [
    {
     "name": "stdout",
     "output_type": "stream",
     "text": [
      "2018-09-18 00:00:01\n",
      "2018-09-21 23:59:48\n",
      "(217572, 28)\n",
      "(71195, 28)\n",
      "2018-09-21 00:00:01\n",
      "2018-09-21 23:59:48\n"
     ]
    }
   ],
   "source": [
    "print(train['context_timestamp'].min())\n",
    "print(train['context_timestamp'].max())\n",
    "all_data = train.copy()\n",
    "val = train[train['context_timestamp']>='2018-09-21 00:00:00']\n",
    "train = train[train['context_timestamp']<'2018-09-21 00:00:00']\n",
    "print(train.shape)\n",
    "print(val.shape)\n",
    "print(val['context_timestamp'].min())\n",
    "print(val['context_timestamp'].max())\n",
    "val.to_csv('21.csv',index=False)"
   ]
  },
  {
   "cell_type": "code",
   "execution_count": null,
   "metadata": {
    "collapsed": true
   },
   "outputs": [],
   "source": []
  },
  {
   "cell_type": "code",
   "execution_count": 34,
   "metadata": {},
   "outputs": [
    {
     "name": "stdout",
     "output_type": "stream",
     "text": [
      "2018-09-18 00:00:01\n",
      "2018-09-20 23:59:54\n",
      "(149188, 28)\n",
      "(68384, 28)\n",
      "2018-09-20 00:00:01\n",
      "2018-09-20 23:59:54\n"
     ]
    }
   ],
   "source": [
    "print(train['context_timestamp'].min())\n",
    "print(train['context_timestamp'].max())\n",
    "all_data = train.copy()\n",
    "val = train[train['context_timestamp']>='2018-09-20 00:00:00']\n",
    "train = train[train['context_timestamp']<'2018-09-20 00:00:00']\n",
    "print(train.shape)\n",
    "print(val.shape)\n",
    "print(val['context_timestamp'].min())\n",
    "print(val['context_timestamp'].max())\n",
    "val.to_csv('20.csv',index=False)"
   ]
  },
  {
   "cell_type": "code",
   "execution_count": null,
   "metadata": {
    "collapsed": true
   },
   "outputs": [],
   "source": []
  },
  {
   "cell_type": "code",
   "execution_count": 35,
   "metadata": {},
   "outputs": [
    {
     "name": "stdout",
     "output_type": "stream",
     "text": [
      "2018-09-18 00:00:01\n",
      "2018-09-19 23:59:55\n",
      "(78261, 28)\n",
      "(70927, 28)\n",
      "2018-09-19 00:00:01\n",
      "2018-09-19 23:59:55\n"
     ]
    }
   ],
   "source": [
    "print(train['context_timestamp'].min())\n",
    "print(train['context_timestamp'].max())\n",
    "all_data = train.copy()\n",
    "val = train[train['context_timestamp']>='2018-09-19 00:00:00']\n",
    "train = train[train['context_timestamp']<'2018-09-19 00:00:00']\n",
    "print(train.shape)\n",
    "print(val.shape)\n",
    "print(val['context_timestamp'].min())\n",
    "print(val['context_timestamp'].max())\n",
    "val.to_csv('19.csv',index=False)"
   ]
  },
  {
   "cell_type": "code",
   "execution_count": null,
   "metadata": {
    "collapsed": true
   },
   "outputs": [],
   "source": []
  },
  {
   "cell_type": "code",
   "execution_count": 36,
   "metadata": {},
   "outputs": [
    {
     "name": "stdout",
     "output_type": "stream",
     "text": [
      "2018-09-18 00:00:01\n",
      "2018-09-18 23:59:54\n",
      "(0, 28)\n",
      "(78261, 28)\n",
      "2018-09-18 00:00:01\n",
      "2018-09-18 23:59:54\n"
     ]
    }
   ],
   "source": [
    "print(train['context_timestamp'].min())\n",
    "print(train['context_timestamp'].max())\n",
    "all_data = train.copy()\n",
    "val = train[train['context_timestamp']>='2018-09-18 00:00:00']\n",
    "train = train[train['context_timestamp']<'2018-09-18 00:00:00']\n",
    "print(train.shape)\n",
    "print(val.shape)\n",
    "print(val['context_timestamp'].min())\n",
    "print(val['context_timestamp'].max())\n",
    "val.to_csv('18.csv',index=False)"
   ]
  },
  {
   "cell_type": "code",
   "execution_count": null,
   "metadata": {
    "collapsed": true
   },
   "outputs": [],
   "source": []
  }
 ],
 "metadata": {
  "kernelspec": {
   "display_name": "Python 3",
   "language": "python",
   "name": "python3"
  },
  "language_info": {
   "codemirror_mode": {
    "name": "ipython",
    "version": 3
   },
   "file_extension": ".py",
   "mimetype": "text/x-python",
   "name": "python",
   "nbconvert_exporter": "python",
   "pygments_lexer": "ipython3",
   "version": "3.6.3"
  }
 },
 "nbformat": 4,
 "nbformat_minor": 2
}
