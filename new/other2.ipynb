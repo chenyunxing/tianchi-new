{
 "cells": [
  {
   "cell_type": "code",
   "execution_count": 64,
   "metadata": {
    "collapsed": true
   },
   "outputs": [],
   "source": [
    "#coding:utf-8\n",
    "import pandas as pd\n",
    "import time\n",
    "import gc\n",
    "from sklearn.metrics import log_loss\n",
    "def time2cov(time_):\n",
    "    '''\n",
    "    时间是根据天数推移，所以日期为脱敏，但是时间本身不脱敏\n",
    "    :param time_: \n",
    "    :return: \n",
    "    '''\n",
    "    return time.strftime(\"%Y-%m-%d %H:%M:%S\",time.localtime(time_))\n",
    "def pre_process(data):\n",
    "    '''\n",
    "    :param data: \n",
    "    :return: \n",
    "    '''\n",
    "\n",
    "    print('预处理')\n",
    "    print('item_category_list_ing')\n",
    "    for i in range(3):\n",
    "        data['category_%d'%(i)] = data['item_category_list'].apply(\n",
    "            lambda x:x.split(\";\")[i] if len(x.split(\";\")) > i else \" \"\n",
    "        )\n",
    "    del data['item_category_list']\n",
    "\n",
    "    print('item_property_list_ing')\n",
    "    for i in range(3):\n",
    "        data['property_%d'%(i)] = data['item_property_list'].apply(\n",
    "            lambda x:x.split(\";\")[i] if len(x.split(\";\")) > i else \" \"\n",
    "        )\n",
    "    del data['item_property_list']\n",
    "\n",
    "    print('context_timestamp_ing')\n",
    "    data['context_timestamp'] = data['context_timestamp'].apply(time2cov)\n",
    "\n",
    "    print('time')\n",
    "    data['context_timestamp_tmp'] = pd.to_datetime(data['context_timestamp'])\n",
    "    data['week'] = data['context_timestamp_tmp'].dt.weekday\n",
    "    data['hour'] = data['context_timestamp_tmp'].dt.hour\n",
    "    data['minute'] = data['context_timestamp_tmp'].dt.minute\n",
    "    data['day'] = data['context_timestamp_tmp'].dt.day\n",
    "    data['halfhour'] = (data['hour']+1)*3+(data['minute']/20).astype('int')\n",
    "    del data['context_timestamp_tmp']\n",
    "    del data['minute']\n",
    "    del data['week']\n",
    "    del data['hour']\n",
    "    del data['predict_category_property']\n",
    "    # del data['predict_property_1']\n",
    "    # del data['predict_property_2']\n",
    "    del data['shop_score_service']\n",
    "    del data['shop_score_description']\n",
    "    del data['shop_review_positive_rate']\n",
    "    del data['shop_score_delivery']\n",
    "    return data"
   ]
  },
  {
   "cell_type": "code",
   "execution_count": 65,
   "metadata": {},
   "outputs": [
    {
     "name": "stdout",
     "output_type": "stream",
     "text": [
      "train\n"
     ]
    }
   ],
   "source": [
    "print('train')\n",
    "train = pd.read_table('train.txt',sep=' ',index_col=False)\n",
    "dataa = pd.read_csv('train_all.csv',index_col=False)"
   ]
  },
  {
   "cell_type": "markdown",
   "metadata": {},
   "source": [
    "## 特征选择"
   ]
  },
  {
   "cell_type": "code",
   "execution_count": 66,
   "metadata": {},
   "outputs": [
    {
     "data": {
      "text/plain": [
       "Index(['instance_id', 'hour_num', 'item_click', 'shop_score_service_num',\n",
       "       'shop_score_description_num', 'shop_review_positive_rate_num',\n",
       "       'shop_score_delivery_num', 'user_click', 'property_0_click',\n",
       "       'property_1_click', 'property_2_click', 'shop_click', 'brand_click',\n",
       "       'category_1_pvnum', 'category_1_first', 'category_1_last',\n",
       "       'property_0_pvnum', 'property_0_first', 'property_0_last',\n",
       "       'property_1_pvnum', 'property_1_first', 'property_1_last',\n",
       "       'item_id_pvnum', 'item_id_first', 'item_id_last', 'occupation_click',\n",
       "       'user_gender_click', 'day_click'],\n",
       "      dtype='object')"
      ]
     },
     "execution_count": 66,
     "metadata": {},
     "output_type": "execute_result"
    }
   ],
   "source": [
    "dataa.columns"
   ]
  },
  {
   "cell_type": "code",
   "execution_count": 67,
   "metadata": {
    "collapsed": true
   },
   "outputs": [],
   "source": [
    "tezheng = ['instance_id', 'hour_num', 'item_click', 'shop_score_service_num',\n",
    "       'shop_score_description_num', 'shop_review_positive_rate_num',\n",
    "       'shop_score_delivery_num', 'user_click', 'property_0_click',\n",
    "       'property_1_click', 'shop_click', 'brand_click',\n",
    "       'category_1_pvnum', 'category_1_first', 'category_1_last',\n",
    "       'property_0_pvnum', 'property_0_first', 'property_0_last',\n",
    "       'property_1_pvnum', 'property_1_first', 'property_1_last',\n",
    "       'item_id_pvnum', 'item_id_first', 'item_id_last', 'occupation_click',\n",
    "       'user_gender_click', 'day_click']"
   ]
  },
  {
   "cell_type": "code",
   "execution_count": 68,
   "metadata": {
    "collapsed": true
   },
   "outputs": [],
   "source": [
    "dataa = dataa[tezheng]"
   ]
  },
  {
   "cell_type": "code",
   "execution_count": 69,
   "metadata": {},
   "outputs": [
    {
     "name": "stdout",
     "output_type": "stream",
     "text": [
      "预处理\n",
      "item_category_list_ing\n",
      "item_property_list_ing\n",
      "context_timestamp_ing\n",
      "time\n"
     ]
    }
   ],
   "source": [
    "\n",
    "train = pd.merge(train,dataa,on=['instance_id'],how='left')\n",
    "del(dataa)\n",
    "gc.collect()\n",
    "train = pre_process(train)"
   ]
  },
  {
   "cell_type": "code",
   "execution_count": 70,
   "metadata": {
    "scrolled": false
   },
   "outputs": [
    {
     "name": "stdout",
     "output_type": "stream",
     "text": [
      "all_shape (10432036, 54)\n",
      "2018-09-07 11:59:59\n",
      "(9354861, 54)\n",
      "(1077175, 54)\n"
     ]
    }
   ],
   "source": [
    "all_data = train.copy()\n",
    "print('all_shape',train.shape)\n",
    "print(train['context_timestamp'].max())\n",
    "val = train[train['day'] == 7]\n",
    "\n",
    "# 空去 22 号\n",
    "\n",
    "train = train[train['day'] != 7]\n",
    "\n",
    "# train = train[train['context_timestamp']>'2018-09-19 23:59:59']\n",
    "print(train.shape)\n",
    "print(val.shape)\n"
   ]
  },
  {
   "cell_type": "code",
   "execution_count": 71,
   "metadata": {},
   "outputs": [
    {
     "name": "stdout",
     "output_type": "stream",
     "text": [
      "test\n"
     ]
    }
   ],
   "source": [
    "\n",
    "print('test')\n",
    "test_a = pd.read_table('test.txt',sep=' ',index_col=False) \n",
    "data2a = pd.read_csv('test_all.csv',index_col=False) \n",
    "\n",
    "# del train[['user_id', 'category_1', 'property_2', 'property_0']]\n",
    "# del val[['user_id', 'category_1', 'property_2', 'property_0']]\n",
    "# del test_a[['user_id', 'category_1', 'property_2', 'property_0']]\n",
    "# 这里是增加的内容\n"
   ]
  },
  {
   "cell_type": "markdown",
   "metadata": {},
   "source": [
    "## 特征选择"
   ]
  },
  {
   "cell_type": "code",
   "execution_count": 72,
   "metadata": {
    "collapsed": true
   },
   "outputs": [],
   "source": [
    "data2a = data2a[tezheng]"
   ]
  },
  {
   "cell_type": "code",
   "execution_count": 73,
   "metadata": {},
   "outputs": [
    {
     "data": {
      "text/plain": [
       "Index(['instance_id', 'item_id', 'item_category_list', 'item_property_list',\n",
       "       'item_brand_id', 'item_city_id', 'item_price_level', 'item_sales_level',\n",
       "       'item_collected_level', 'item_pv_level', 'user_id', 'user_gender_id',\n",
       "       'user_age_level', 'user_occupation_id', 'user_star_level', 'context_id',\n",
       "       'context_timestamp', 'context_page_id', 'predict_category_property',\n",
       "       'shop_id', 'shop_review_num_level', 'shop_review_positive_rate',\n",
       "       'shop_star_level', 'shop_score_service', 'shop_score_delivery',\n",
       "       'shop_score_description'],\n",
       "      dtype='object')"
      ]
     },
     "execution_count": 73,
     "metadata": {},
     "output_type": "execute_result"
    }
   ],
   "source": [
    "test_a.columns"
   ]
  },
  {
   "cell_type": "code",
   "execution_count": 74,
   "metadata": {},
   "outputs": [
    {
     "name": "stdout",
     "output_type": "stream",
     "text": [
      "(519888, 52)\n",
      "预处理\n",
      "item_category_list_ing\n",
      "item_property_list_ing\n",
      "context_timestamp_ing\n",
      "time\n"
     ]
    }
   ],
   "source": [
    "test_a = pd.merge(test_a,data2a,on=['instance_id'],how='left')\n",
    "del(data2a)\n",
    "gc.collect()\n",
    "print(test_a.shape)\n",
    "test_a = pre_process(test_a)\n",
    "del train['item_city_id']\n",
    "del val['item_city_id']\n",
    "del test_a['item_city_id']\n",
    "del train['shop_id']\n",
    "del val['shop_id']\n",
    "del test_a['shop_id']\n",
    "del train['context_id']\n",
    "del val['context_id']\n",
    "del test_a['context_id']\n",
    "del train['item_brand_id']\n",
    "del val['item_brand_id']\n",
    "del test_a['item_brand_id']\n",
    "# del train['category_0']\n",
    "# del val['category_0']\n",
    "# del test_a['category_0']\n",
    "# del train['category_2']\n",
    "# del val['category_2']\n",
    "# del test_a['category_2']\n",
    "# del train['property_1']\n",
    "# del val['property_1']\n",
    "# del test_a['property_1']\n",
    "# del train['property_2']\n",
    "# del val['property_2']\n",
    "# del test_a['property_2']"
   ]
  },
  {
   "cell_type": "code",
   "execution_count": 75,
   "metadata": {
    "collapsed": true
   },
   "outputs": [],
   "source": [
    "\n",
    "# import datetime\n",
    "# def get_count_feat(all_data,data,long=3):\n",
    "#     end_time = data['context_timestamp'].min()\n",
    "#     begin_time = pd.to_datetime(end_time) - datetime.timedelta(days=long)\n",
    "#     all_data['context_timestamp'] = pd.to_datetime(all_data['context_timestamp'])\n",
    "#     all_data = all_data[\n",
    "#         (all_data['context_timestamp']<end_time)&(all_data['context_timestamp']>=begin_time)\n",
    "#                     ]\n",
    "    \n",
    "#     print(end_time)\n",
    "#     print(begin_time)\n",
    "#     print(all_data['context_timestamp'].max()-all_data['context_timestamp'].min())\n",
    "#     item_count = all_data.groupby(['item_id'],as_index=False).size().reset_index()\n",
    "#     item_count.rename(columns={0:'item_count'},inplace=True)\n",
    "\n",
    "#     user_count = all_data.groupby(['user_id'], as_index=False).size().reset_index()\n",
    "#     user_count.rename(columns={0: 'user_count'}, inplace=True)\n",
    "#     return user_count,item_count\n",
    "\n",
    "\n"
   ]
  },
  {
   "cell_type": "code",
   "execution_count": 76,
   "metadata": {},
   "outputs": [
    {
     "name": "stdout",
     "output_type": "stream",
     "text": [
      "(519888, 48)\n"
     ]
    }
   ],
   "source": [
    "\n",
    "# train_user_count,train_item_count = get_count_feat(all_data,train,2)\n",
    "\n",
    "# test_user_count,test_item_count = get_count_feat(all_data,test_a,2)\n",
    "\n",
    "# val_user_count,val_item_count = get_count_feat(all_data,val,2)\n",
    "# # print(train.columns)\n",
    "# train = pd.merge(train,train_user_count,on=['user_id'],how='left')\n",
    "# train = pd.merge(train,train_item_count,on=['item_id'],how='left')\n",
    "# train = train.fillna(-1)\n",
    "# val = pd.merge(val,val_user_count,on=['user_id'],how='left')\n",
    "# val = pd.merge(val,val_item_count,on=['item_id'],how='left')\n",
    "# val = val.fillna(-1)\n",
    "# test_a = pd.merge(test_a,test_user_count,on=['user_id'],how='left')\n",
    "# test_a = pd.merge(test_a,test_item_count,on=['item_id'],how='left')\n",
    "# test_a = test_a.fillna(-1)\n",
    "\n",
    "# 删掉上面增加的用户点击量与商品点击量\n",
    "# del train['user_count']\n",
    "# del train['item_count']\n",
    "# del val['user_count']\n",
    "# del val['item_count']\n",
    "# del test_a['user_count']\n",
    "# del test_a['item_count']\n",
    "\n",
    "# user_item_count = pd.read_csv\n",
    "\n",
    "\n",
    "y_train = train.pop('is_trade')\n",
    "train_index = train.pop('instance_id')\n",
    "\n",
    "y_val = val.pop('is_trade')\n",
    "val_index = val.pop('instance_id')\n",
    "test_index = test_a.pop('instance_id')\n",
    "\n",
    "print(test_a.shape)\n",
    "del train['context_timestamp']\n",
    "del val['context_timestamp']\n",
    "del test_a['context_timestamp']\n",
    "del all_data\n"
   ]
  },
  {
   "cell_type": "code",
   "execution_count": null,
   "metadata": {
    "collapsed": true
   },
   "outputs": [],
   "source": []
  },
  {
   "cell_type": "code",
   "execution_count": 77,
   "metadata": {},
   "outputs": [
    {
     "name": "stdout",
     "output_type": "stream",
     "text": [
      "baseline ing ... ...\n"
     ]
    }
   ],
   "source": [
    "print('baseline ing ... ...')\n",
    "from sklearn.preprocessing import LabelEncoder,OneHotEncoder\n",
    "from scipy import sparse\n",
    "from sklearn.linear_model import LogisticRegression"
   ]
  },
  {
   "cell_type": "code",
   "execution_count": 78,
   "metadata": {
    "collapsed": true
   },
   "outputs": [],
   "source": [
    "\n",
    "# print('baseline ing ... ...')\n",
    "# from sklearn.preprocessing import LabelEncoder,OneHotEncoder\n",
    "# from scipy import sparse\n",
    "# from sklearn.linear_model import LogisticRegression\n",
    "# # print(test_a.columns)\n",
    "\n",
    "# enc = OneHotEncoder()\n",
    "# lb = LabelEncoder()\n",
    "# # feat_set = list(test_a.columns)\n",
    "\n",
    "# del train['user_id']\n",
    "# del test_a['user_id']\n",
    "# del val['user_id']\n",
    "# # del train['item_id']\n",
    "# # del test_a['item_id']\n",
    "# # del val['item_id']\n",
    "# # 8288\n",
    "\n",
    "# print(train.columns)\n",
    "\n",
    "# # 自己使用onehot编码\n",
    "# train['x_train'] = 1\n",
    "# test_a['x_test'] = 1\n",
    "# val['x_val'] = 1\n",
    "\n",
    "# all_data = pd.concat([train,test_a,val])\n",
    "# all_data = pd.get_dummies(all_data)\n",
    "# print(all_data.shape)\n",
    "\n",
    "# X_train = all_data.loc[all_data['x_train'].notnull()]\n",
    "# X_test = all_data.loc[all_data['x_test'].notnull()]\n",
    "# X_val = all_data.loc[all_data['x_val'].notnull()]\n",
    "\n",
    "# del X_train['x_train']\n",
    "# del X_train['x_test']\n",
    "# del X_train['x_val']\n",
    "# del X_test['x_train']\n",
    "# del X_test['x_test']\n",
    "# del X_test['x_val']\n",
    "# del X_val['x_train']\n",
    "# del X_val['x_test']\n",
    "# del X_val['x_val']\n"
   ]
  },
  {
   "cell_type": "code",
   "execution_count": 79,
   "metadata": {
    "collapsed": true
   },
   "outputs": [],
   "source": [
    "# LogisticRegression?"
   ]
  },
  {
   "cell_type": "code",
   "execution_count": 80,
   "metadata": {
    "collapsed": true
   },
   "outputs": [],
   "source": [
    "\n",
    "# lr = LogisticRegression(C=5.0,penalty='l1')\n",
    "\n",
    "# lr.fit(X_train, y_train)\n"
   ]
  },
  {
   "cell_type": "code",
   "execution_count": 81,
   "metadata": {
    "collapsed": true
   },
   "outputs": [],
   "source": [
    "\n",
    "# proba_val = lr.predict_proba(X_val)[:,1]\n",
    "# proba_sub = lr.predict_proba(X_test)[:,1]\n",
    "# print(log_loss(y_train,lr.predict_proba(X_train)[:,1]))\n",
    "# print(log_loss(y_val,proba_val))\n",
    "# print()"
   ]
  },
  {
   "cell_type": "code",
   "execution_count": 82,
   "metadata": {
    "collapsed": true
   },
   "outputs": [],
   "source": [
    "# category_0, category_1, category_2, property_0, property_1, property_2\n",
    "del val['category_0']\n",
    "del val['category_1']\n",
    "del val['category_2']\n",
    "del val['property_0']\n",
    "del val['property_1']\n",
    "del val['property_2']\n",
    "# train = pd.DataFrame(train,dtype='float')\n",
    "del train['category_0']\n",
    "del train['category_1']\n",
    "del train['category_2']\n",
    "del train['property_0']\n",
    "del train['property_1']\n",
    "del train['property_2']\n",
    "\n",
    "del test_a['category_0']\n",
    "del test_a['category_1']\n",
    "del test_a['category_2']\n",
    "del test_a['property_0']\n",
    "del test_a['property_1']\n",
    "del test_a['property_2']"
   ]
  },
  {
   "cell_type": "code",
   "execution_count": 83,
   "metadata": {},
   "outputs": [
    {
     "data": {
      "text/plain": [
       "Index(['item_id', 'item_price_level', 'item_sales_level',\n",
       "       'item_collected_level', 'item_pv_level', 'user_id', 'user_gender_id',\n",
       "       'user_age_level', 'user_occupation_id', 'user_star_level',\n",
       "       'context_page_id', 'shop_review_num_level', 'shop_star_level',\n",
       "       'hour_num', 'item_click', 'shop_score_service_num',\n",
       "       'shop_score_description_num', 'shop_review_positive_rate_num',\n",
       "       'shop_score_delivery_num', 'user_click', 'property_0_click',\n",
       "       'property_1_click', 'shop_click', 'brand_click', 'category_1_pvnum',\n",
       "       'category_1_first', 'category_1_last', 'property_0_pvnum',\n",
       "       'property_0_first', 'property_0_last', 'property_1_pvnum',\n",
       "       'property_1_first', 'property_1_last', 'item_id_pvnum', 'item_id_first',\n",
       "       'item_id_last', 'occupation_click', 'user_gender_click', 'day_click',\n",
       "       'day', 'halfhour'],\n",
       "      dtype='object')"
      ]
     },
     "execution_count": 83,
     "metadata": {},
     "output_type": "execute_result"
    }
   ],
   "source": [
    "train.columns"
   ]
  },
  {
   "cell_type": "code",
   "execution_count": 84,
   "metadata": {
    "collapsed": true
   },
   "outputs": [],
   "source": [
    "def changeNaN(x):\n",
    "    if x==-1:\n",
    "        return float(\"nan\") \n",
    "    else:\n",
    "        return x"
   ]
  },
  {
   "cell_type": "code",
   "execution_count": 85,
   "metadata": {
    "scrolled": true
   },
   "outputs": [],
   "source": [
    "train['item_price_level'].apply(changeNaN)\n",
    "train['item_sales_level'].apply(changeNaN)\n",
    "train['item_collected_level'].apply(changeNaN)\n",
    "train['item_pv_level'].apply(changeNaN)\n",
    "train['user_gender_id'].apply(changeNaN)\n",
    "train['user_age_level'].apply(changeNaN)\n",
    "train['user_occupation_id'].apply(changeNaN)\n",
    "train['shop_review_num_level'].apply(changeNaN)\n",
    "train['shop_star_level'].apply(changeNaN)\n",
    "pass"
   ]
  },
  {
   "cell_type": "code",
   "execution_count": 86,
   "metadata": {
    "collapsed": true
   },
   "outputs": [],
   "source": [
    "val['item_price_level'].apply(changeNaN)\n",
    "val['item_sales_level'].apply(changeNaN)\n",
    "val['item_collected_level'].apply(changeNaN)\n",
    "val['item_pv_level'].apply(changeNaN)\n",
    "val['user_gender_id'].apply(changeNaN)\n",
    "val['user_age_level'].apply(changeNaN)\n",
    "val['user_occupation_id'].apply(changeNaN)\n",
    "val['shop_review_num_level'].apply(changeNaN)\n",
    "val['shop_star_level'].apply(changeNaN)\n",
    "pass"
   ]
  },
  {
   "cell_type": "code",
   "execution_count": 87,
   "metadata": {
    "collapsed": true
   },
   "outputs": [],
   "source": [
    "test_a['item_price_level'].apply(changeNaN)\n",
    "test_a['item_sales_level'].apply(changeNaN)\n",
    "test_a['item_collected_level'].apply(changeNaN)\n",
    "test_a['item_pv_level'].apply(changeNaN)\n",
    "test_a['user_gender_id'].apply(changeNaN)\n",
    "test_a['user_age_level'].apply(changeNaN)\n",
    "test_a['user_occupation_id'].apply(changeNaN)\n",
    "test_a['shop_review_num_level'].apply(changeNaN)\n",
    "test_a['shop_star_level'].apply(changeNaN)\n",
    "pass"
   ]
  },
  {
   "cell_type": "code",
   "execution_count": 90,
   "metadata": {},
   "outputs": [
    {
     "name": "stdout",
     "output_type": "stream",
     "text": [
      "[1]\tvalid_0's binary_logloss: 0.684332\n",
      "Training until validation scores don't improve for 150 rounds.\n",
      "[2]\tvalid_0's binary_logloss: 0.675664\n",
      "[3]\tvalid_0's binary_logloss: 0.667088\n",
      "[4]\tvalid_0's binary_logloss: 0.658742\n",
      "[5]\tvalid_0's binary_logloss: 0.650639\n",
      "[6]\tvalid_0's binary_logloss: 0.642608\n",
      "[7]\tvalid_0's binary_logloss: 0.634801\n",
      "[8]\tvalid_0's binary_logloss: 0.62714\n",
      "[9]\tvalid_0's binary_logloss: 0.619581\n",
      "[10]\tvalid_0's binary_logloss: 0.612228\n",
      "[11]\tvalid_0's binary_logloss: 0.605007\n",
      "[12]\tvalid_0's binary_logloss: 0.597896\n",
      "[13]\tvalid_0's binary_logloss: 0.590953\n",
      "[14]\tvalid_0's binary_logloss: 0.584198\n",
      "[15]\tvalid_0's binary_logloss: 0.577552\n",
      "[16]\tvalid_0's binary_logloss: 0.570933\n",
      "[17]\tvalid_0's binary_logloss: 0.564468\n",
      "[18]\tvalid_0's binary_logloss: 0.558095\n",
      "[19]\tvalid_0's binary_logloss: 0.55189\n",
      "[20]\tvalid_0's binary_logloss: 0.545864\n",
      "[21]\tvalid_0's binary_logloss: 0.53987\n",
      "[22]\tvalid_0's binary_logloss: 0.533972\n",
      "[23]\tvalid_0's binary_logloss: 0.528197\n",
      "[24]\tvalid_0's binary_logloss: 0.522559\n",
      "[25]\tvalid_0's binary_logloss: 0.516982\n",
      "[26]\tvalid_0's binary_logloss: 0.511476\n",
      "[27]\tvalid_0's binary_logloss: 0.506104\n",
      "[28]\tvalid_0's binary_logloss: 0.500786\n",
      "[29]\tvalid_0's binary_logloss: 0.495579\n",
      "[30]\tvalid_0's binary_logloss: 0.49048\n",
      "[31]\tvalid_0's binary_logloss: 0.485458\n",
      "[32]\tvalid_0's binary_logloss: 0.480579\n",
      "[33]\tvalid_0's binary_logloss: 0.475727\n",
      "[34]\tvalid_0's binary_logloss: 0.470959\n",
      "[35]\tvalid_0's binary_logloss: 0.466302\n",
      "[36]\tvalid_0's binary_logloss: 0.461685\n",
      "[37]\tvalid_0's binary_logloss: 0.457143\n",
      "[38]\tvalid_0's binary_logloss: 0.45268\n",
      "[39]\tvalid_0's binary_logloss: 0.44831\n",
      "[40]\tvalid_0's binary_logloss: 0.443981\n",
      "[41]\tvalid_0's binary_logloss: 0.439745\n",
      "[42]\tvalid_0's binary_logloss: 0.435571\n",
      "[43]\tvalid_0's binary_logloss: 0.431463\n",
      "[44]\tvalid_0's binary_logloss: 0.427455\n",
      "[45]\tvalid_0's binary_logloss: 0.423475\n",
      "[46]\tvalid_0's binary_logloss: 0.419557\n",
      "[47]\tvalid_0's binary_logloss: 0.415728\n",
      "[48]\tvalid_0's binary_logloss: 0.411966\n",
      "[49]\tvalid_0's binary_logloss: 0.408247\n",
      "[50]\tvalid_0's binary_logloss: 0.40458\n",
      "[51]\tvalid_0's binary_logloss: 0.400968\n",
      "[52]\tvalid_0's binary_logloss: 0.397403\n",
      "[53]\tvalid_0's binary_logloss: 0.393914\n",
      "[54]\tvalid_0's binary_logloss: 0.390473\n",
      "[55]\tvalid_0's binary_logloss: 0.387079\n",
      "[56]\tvalid_0's binary_logloss: 0.383757\n",
      "[57]\tvalid_0's binary_logloss: 0.380446\n",
      "[58]\tvalid_0's binary_logloss: 0.377209\n",
      "[59]\tvalid_0's binary_logloss: 0.374031\n",
      "[60]\tvalid_0's binary_logloss: 0.370888\n",
      "[61]\tvalid_0's binary_logloss: 0.367801\n",
      "[62]\tvalid_0's binary_logloss: 0.36477\n",
      "[63]\tvalid_0's binary_logloss: 0.361774\n",
      "[64]\tvalid_0's binary_logloss: 0.358812\n",
      "[65]\tvalid_0's binary_logloss: 0.35592\n",
      "[66]\tvalid_0's binary_logloss: 0.353059\n",
      "[67]\tvalid_0's binary_logloss: 0.350249\n",
      "[68]\tvalid_0's binary_logloss: 0.347465\n",
      "[69]\tvalid_0's binary_logloss: 0.344743\n",
      "[70]\tvalid_0's binary_logloss: 0.342065\n",
      "[71]\tvalid_0's binary_logloss: 0.339418\n",
      "[72]\tvalid_0's binary_logloss: 0.336823\n",
      "[73]\tvalid_0's binary_logloss: 0.334253\n",
      "[74]\tvalid_0's binary_logloss: 0.331714\n",
      "[75]\tvalid_0's binary_logloss: 0.329235\n",
      "[76]\tvalid_0's binary_logloss: 0.326794\n",
      "[77]\tvalid_0's binary_logloss: 0.324377\n",
      "[78]\tvalid_0's binary_logloss: 0.321982\n",
      "[79]\tvalid_0's binary_logloss: 0.319638\n",
      "[80]\tvalid_0's binary_logloss: 0.317328\n",
      "[81]\tvalid_0's binary_logloss: 0.315057\n",
      "[82]\tvalid_0's binary_logloss: 0.31282\n",
      "[83]\tvalid_0's binary_logloss: 0.310621\n",
      "[84]\tvalid_0's binary_logloss: 0.30845\n",
      "[85]\tvalid_0's binary_logloss: 0.3063\n",
      "[86]\tvalid_0's binary_logloss: 0.304198\n",
      "[87]\tvalid_0's binary_logloss: 0.302107\n",
      "[88]\tvalid_0's binary_logloss: 0.300062\n",
      "[89]\tvalid_0's binary_logloss: 0.298045\n",
      "[90]\tvalid_0's binary_logloss: 0.296066\n",
      "[91]\tvalid_0's binary_logloss: 0.294112\n",
      "[92]\tvalid_0's binary_logloss: 0.292188\n",
      "[93]\tvalid_0's binary_logloss: 0.290302\n",
      "[94]\tvalid_0's binary_logloss: 0.288422\n",
      "[95]\tvalid_0's binary_logloss: 0.28659\n",
      "[96]\tvalid_0's binary_logloss: 0.284779\n",
      "[97]\tvalid_0's binary_logloss: 0.282986\n",
      "[98]\tvalid_0's binary_logloss: 0.281228\n",
      "[99]\tvalid_0's binary_logloss: 0.279492\n",
      "[100]\tvalid_0's binary_logloss: 0.277789\n",
      "[101]\tvalid_0's binary_logloss: 0.276108\n",
      "[102]\tvalid_0's binary_logloss: 0.274442\n",
      "[103]\tvalid_0's binary_logloss: 0.272808\n",
      "[104]\tvalid_0's binary_logloss: 0.271193\n",
      "[105]\tvalid_0's binary_logloss: 0.269599\n",
      "[106]\tvalid_0's binary_logloss: 0.26803\n",
      "[107]\tvalid_0's binary_logloss: 0.266493\n",
      "[108]\tvalid_0's binary_logloss: 0.264985\n",
      "[109]\tvalid_0's binary_logloss: 0.263495\n",
      "[110]\tvalid_0's binary_logloss: 0.262023\n",
      "[111]\tvalid_0's binary_logloss: 0.260578\n",
      "[112]\tvalid_0's binary_logloss: 0.259155\n",
      "[113]\tvalid_0's binary_logloss: 0.257756\n",
      "[114]\tvalid_0's binary_logloss: 0.256375\n",
      "[115]\tvalid_0's binary_logloss: 0.25502\n",
      "[116]\tvalid_0's binary_logloss: 0.253684\n",
      "[117]\tvalid_0's binary_logloss: 0.252366\n",
      "[118]\tvalid_0's binary_logloss: 0.251067\n",
      "[119]\tvalid_0's binary_logloss: 0.249786\n",
      "[120]\tvalid_0's binary_logloss: 0.248526\n",
      "[121]\tvalid_0's binary_logloss: 0.247283\n",
      "[122]\tvalid_0's binary_logloss: 0.246064\n",
      "[123]\tvalid_0's binary_logloss: 0.244861\n",
      "[124]\tvalid_0's binary_logloss: 0.243661\n",
      "[125]\tvalid_0's binary_logloss: 0.242488\n",
      "[126]\tvalid_0's binary_logloss: 0.241341\n",
      "[127]\tvalid_0's binary_logloss: 0.24021\n",
      "[128]\tvalid_0's binary_logloss: 0.239085\n",
      "[129]\tvalid_0's binary_logloss: 0.237995\n",
      "[130]\tvalid_0's binary_logloss: 0.236913\n",
      "[131]\tvalid_0's binary_logloss: 0.23584\n",
      "[132]\tvalid_0's binary_logloss: 0.234789\n",
      "[133]\tvalid_0's binary_logloss: 0.233759\n",
      "[134]\tvalid_0's binary_logloss: 0.232749\n",
      "[135]\tvalid_0's binary_logloss: 0.23174\n",
      "[136]\tvalid_0's binary_logloss: 0.230755\n",
      "[137]\tvalid_0's binary_logloss: 0.22978\n",
      "[138]\tvalid_0's binary_logloss: 0.228823\n",
      "[139]\tvalid_0's binary_logloss: 0.227884\n",
      "[140]\tvalid_0's binary_logloss: 0.226951\n",
      "[141]\tvalid_0's binary_logloss: 0.22604\n",
      "[142]\tvalid_0's binary_logloss: 0.225155\n",
      "[143]\tvalid_0's binary_logloss: 0.224275\n",
      "[144]\tvalid_0's binary_logloss: 0.2234\n",
      "[145]\tvalid_0's binary_logloss: 0.222551\n",
      "[146]\tvalid_0's binary_logloss: 0.221721\n",
      "[147]\tvalid_0's binary_logloss: 0.2209\n",
      "[148]\tvalid_0's binary_logloss: 0.220084\n",
      "[149]\tvalid_0's binary_logloss: 0.219284\n",
      "[150]\tvalid_0's binary_logloss: 0.218499\n",
      "[151]\tvalid_0's binary_logloss: 0.21773\n",
      "[152]\tvalid_0's binary_logloss: 0.216966\n",
      "[153]\tvalid_0's binary_logloss: 0.216215\n",
      "[154]\tvalid_0's binary_logloss: 0.215474\n",
      "[155]\tvalid_0's binary_logloss: 0.214752\n",
      "[156]\tvalid_0's binary_logloss: 0.214034\n",
      "[157]\tvalid_0's binary_logloss: 0.21333\n",
      "[158]\tvalid_0's binary_logloss: 0.212639\n",
      "[159]\tvalid_0's binary_logloss: 0.211955\n",
      "[160]\tvalid_0's binary_logloss: 0.211289\n",
      "[161]\tvalid_0's binary_logloss: 0.210622\n",
      "[162]\tvalid_0's binary_logloss: 0.209977\n",
      "[163]\tvalid_0's binary_logloss: 0.209341\n",
      "[164]\tvalid_0's binary_logloss: 0.208717\n",
      "[165]\tvalid_0's binary_logloss: 0.208099\n",
      "[166]\tvalid_0's binary_logloss: 0.207493\n",
      "[167]\tvalid_0's binary_logloss: 0.206897\n",
      "[168]\tvalid_0's binary_logloss: 0.206311\n",
      "[169]\tvalid_0's binary_logloss: 0.205734\n",
      "[170]\tvalid_0's binary_logloss: 0.205167\n",
      "[171]\tvalid_0's binary_logloss: 0.204618\n",
      "[172]\tvalid_0's binary_logloss: 0.20407\n",
      "[173]\tvalid_0's binary_logloss: 0.203532\n",
      "[174]\tvalid_0's binary_logloss: 0.203006\n",
      "[175]\tvalid_0's binary_logloss: 0.202497\n",
      "[176]\tvalid_0's binary_logloss: 0.201992\n",
      "[177]\tvalid_0's binary_logloss: 0.201493\n",
      "[178]\tvalid_0's binary_logloss: 0.201001\n",
      "[179]\tvalid_0's binary_logloss: 0.200524\n",
      "[180]\tvalid_0's binary_logloss: 0.20005\n",
      "[181]\tvalid_0's binary_logloss: 0.199584\n",
      "[182]\tvalid_0's binary_logloss: 0.199132\n",
      "[183]\tvalid_0's binary_logloss: 0.198685\n",
      "[184]\tvalid_0's binary_logloss: 0.198251\n",
      "[185]\tvalid_0's binary_logloss: 0.197822\n",
      "[186]\tvalid_0's binary_logloss: 0.197398\n",
      "[187]\tvalid_0's binary_logloss: 0.196985\n",
      "[188]\tvalid_0's binary_logloss: 0.196581\n",
      "[189]\tvalid_0's binary_logloss: 0.196183\n",
      "[190]\tvalid_0's binary_logloss: 0.195792\n",
      "[191]\tvalid_0's binary_logloss: 0.195409\n",
      "[192]\tvalid_0's binary_logloss: 0.195032\n",
      "[193]\tvalid_0's binary_logloss: 0.19466\n",
      "[194]\tvalid_0's binary_logloss: 0.194301\n",
      "[195]\tvalid_0's binary_logloss: 0.193948\n",
      "[196]\tvalid_0's binary_logloss: 0.193599\n",
      "[197]\tvalid_0's binary_logloss: 0.193257\n",
      "[198]\tvalid_0's binary_logloss: 0.192921\n",
      "[199]\tvalid_0's binary_logloss: 0.192596\n",
      "[200]\tvalid_0's binary_logloss: 0.19228\n",
      "[201]\tvalid_0's binary_logloss: 0.191965\n",
      "[202]\tvalid_0's binary_logloss: 0.191654\n"
     ]
    },
    {
     "name": "stdout",
     "output_type": "stream",
     "text": [
      "[203]\tvalid_0's binary_logloss: 0.191353\n",
      "[204]\tvalid_0's binary_logloss: 0.191056\n",
      "[205]\tvalid_0's binary_logloss: 0.190765\n",
      "[206]\tvalid_0's binary_logloss: 0.190484\n",
      "[207]\tvalid_0's binary_logloss: 0.190208\n",
      "[208]\tvalid_0's binary_logloss: 0.189945\n",
      "[209]\tvalid_0's binary_logloss: 0.189682\n",
      "[210]\tvalid_0's binary_logloss: 0.189429\n",
      "[211]\tvalid_0's binary_logloss: 0.189174\n",
      "[212]\tvalid_0's binary_logloss: 0.188924\n",
      "[213]\tvalid_0's binary_logloss: 0.188679\n",
      "[214]\tvalid_0's binary_logloss: 0.188443\n",
      "[215]\tvalid_0's binary_logloss: 0.188208\n",
      "[216]\tvalid_0's binary_logloss: 0.187987\n",
      "[217]\tvalid_0's binary_logloss: 0.187771\n",
      "[218]\tvalid_0's binary_logloss: 0.187564\n",
      "[219]\tvalid_0's binary_logloss: 0.187359\n",
      "[220]\tvalid_0's binary_logloss: 0.187151\n",
      "[221]\tvalid_0's binary_logloss: 0.186948\n",
      "[222]\tvalid_0's binary_logloss: 0.186761\n",
      "[223]\tvalid_0's binary_logloss: 0.186579\n",
      "[224]\tvalid_0's binary_logloss: 0.18639\n",
      "[225]\tvalid_0's binary_logloss: 0.186218\n",
      "[226]\tvalid_0's binary_logloss: 0.186038\n",
      "[227]\tvalid_0's binary_logloss: 0.185863\n",
      "[228]\tvalid_0's binary_logloss: 0.185692\n",
      "[229]\tvalid_0's binary_logloss: 0.185532\n",
      "[230]\tvalid_0's binary_logloss: 0.185369\n",
      "[231]\tvalid_0's binary_logloss: 0.185213\n",
      "[232]\tvalid_0's binary_logloss: 0.18507\n",
      "[233]\tvalid_0's binary_logloss: 0.184922\n",
      "[234]\tvalid_0's binary_logloss: 0.184779\n",
      "[235]\tvalid_0's binary_logloss: 0.184639\n",
      "[236]\tvalid_0's binary_logloss: 0.184502\n",
      "[237]\tvalid_0's binary_logloss: 0.184369\n",
      "[238]\tvalid_0's binary_logloss: 0.184251\n",
      "[239]\tvalid_0's binary_logloss: 0.184131\n",
      "[240]\tvalid_0's binary_logloss: 0.184017\n",
      "[241]\tvalid_0's binary_logloss: 0.183908\n",
      "[242]\tvalid_0's binary_logloss: 0.183799\n",
      "[243]\tvalid_0's binary_logloss: 0.183691\n",
      "[244]\tvalid_0's binary_logloss: 0.183597\n",
      "[245]\tvalid_0's binary_logloss: 0.183508\n",
      "[246]\tvalid_0's binary_logloss: 0.183419\n",
      "[247]\tvalid_0's binary_logloss: 0.183325\n",
      "[248]\tvalid_0's binary_logloss: 0.183234\n",
      "[249]\tvalid_0's binary_logloss: 0.183162\n",
      "[250]\tvalid_0's binary_logloss: 0.183093\n",
      "[251]\tvalid_0's binary_logloss: 0.183027\n",
      "[252]\tvalid_0's binary_logloss: 0.182968\n",
      "[253]\tvalid_0's binary_logloss: 0.182894\n",
      "[254]\tvalid_0's binary_logloss: 0.182824\n",
      "[255]\tvalid_0's binary_logloss: 0.182759\n",
      "[256]\tvalid_0's binary_logloss: 0.182697\n",
      "[257]\tvalid_0's binary_logloss: 0.182651\n",
      "[258]\tvalid_0's binary_logloss: 0.18259\n",
      "[259]\tvalid_0's binary_logloss: 0.182535\n",
      "[260]\tvalid_0's binary_logloss: 0.182494\n",
      "[261]\tvalid_0's binary_logloss: 0.182445\n",
      "[262]\tvalid_0's binary_logloss: 0.182397\n",
      "[263]\tvalid_0's binary_logloss: 0.182352\n",
      "[264]\tvalid_0's binary_logloss: 0.182305\n",
      "[265]\tvalid_0's binary_logloss: 0.182265\n",
      "[266]\tvalid_0's binary_logloss: 0.182229\n",
      "[267]\tvalid_0's binary_logloss: 0.182194\n",
      "[268]\tvalid_0's binary_logloss: 0.182178\n",
      "[269]\tvalid_0's binary_logloss: 0.182146\n",
      "[270]\tvalid_0's binary_logloss: 0.182116\n",
      "[271]\tvalid_0's binary_logloss: 0.18211\n",
      "[272]\tvalid_0's binary_logloss: 0.18209\n",
      "[273]\tvalid_0's binary_logloss: 0.182071\n",
      "[274]\tvalid_0's binary_logloss: 0.182063\n",
      "[275]\tvalid_0's binary_logloss: 0.182048\n",
      "[276]\tvalid_0's binary_logloss: 0.182036\n",
      "[277]\tvalid_0's binary_logloss: 0.182028\n",
      "[278]\tvalid_0's binary_logloss: 0.182028\n",
      "[279]\tvalid_0's binary_logloss: 0.18203\n",
      "[280]\tvalid_0's binary_logloss: 0.182042\n",
      "[281]\tvalid_0's binary_logloss: 0.182037\n",
      "[282]\tvalid_0's binary_logloss: 0.182058\n",
      "[283]\tvalid_0's binary_logloss: 0.182055\n",
      "[284]\tvalid_0's binary_logloss: 0.182061\n",
      "[285]\tvalid_0's binary_logloss: 0.18206\n",
      "[286]\tvalid_0's binary_logloss: 0.182065\n",
      "[287]\tvalid_0's binary_logloss: 0.182088\n",
      "[288]\tvalid_0's binary_logloss: 0.182112\n",
      "[289]\tvalid_0's binary_logloss: 0.182141\n",
      "[290]\tvalid_0's binary_logloss: 0.182187\n",
      "[291]\tvalid_0's binary_logloss: 0.182202\n",
      "[292]\tvalid_0's binary_logloss: 0.182227\n",
      "[293]\tvalid_0's binary_logloss: 0.182251\n",
      "[294]\tvalid_0's binary_logloss: 0.182276\n",
      "[295]\tvalid_0's binary_logloss: 0.182297\n",
      "[296]\tvalid_0's binary_logloss: 0.182358\n",
      "[297]\tvalid_0's binary_logloss: 0.182397\n",
      "[298]\tvalid_0's binary_logloss: 0.182417\n",
      "[299]\tvalid_0's binary_logloss: 0.182448\n",
      "[300]\tvalid_0's binary_logloss: 0.182481\n",
      "[301]\tvalid_0's binary_logloss: 0.182519\n",
      "[302]\tvalid_0's binary_logloss: 0.182569\n",
      "[303]\tvalid_0's binary_logloss: 0.1826\n",
      "[304]\tvalid_0's binary_logloss: 0.182651\n",
      "[305]\tvalid_0's binary_logloss: 0.182689\n",
      "[306]\tvalid_0's binary_logloss: 0.182761\n",
      "[307]\tvalid_0's binary_logloss: 0.1828\n",
      "[308]\tvalid_0's binary_logloss: 0.182852\n",
      "[309]\tvalid_0's binary_logloss: 0.182898\n",
      "[310]\tvalid_0's binary_logloss: 0.182957\n",
      "[311]\tvalid_0's binary_logloss: 0.182995\n",
      "[312]\tvalid_0's binary_logloss: 0.183042\n",
      "[313]\tvalid_0's binary_logloss: 0.183082\n",
      "[314]\tvalid_0's binary_logloss: 0.183126\n",
      "[315]\tvalid_0's binary_logloss: 0.183199\n",
      "[316]\tvalid_0's binary_logloss: 0.183256\n",
      "[317]\tvalid_0's binary_logloss: 0.183302\n",
      "[318]\tvalid_0's binary_logloss: 0.183353\n",
      "[319]\tvalid_0's binary_logloss: 0.183404\n",
      "[320]\tvalid_0's binary_logloss: 0.183456\n",
      "[321]\tvalid_0's binary_logloss: 0.183523\n",
      "[322]\tvalid_0's binary_logloss: 0.183594\n",
      "[323]\tvalid_0's binary_logloss: 0.183678\n",
      "[324]\tvalid_0's binary_logloss: 0.183783\n",
      "[325]\tvalid_0's binary_logloss: 0.183877\n",
      "[326]\tvalid_0's binary_logloss: 0.183952\n",
      "[327]\tvalid_0's binary_logloss: 0.184013\n",
      "[328]\tvalid_0's binary_logloss: 0.18407\n",
      "[329]\tvalid_0's binary_logloss: 0.18414\n",
      "[330]\tvalid_0's binary_logloss: 0.184205\n",
      "[331]\tvalid_0's binary_logloss: 0.184288\n",
      "[332]\tvalid_0's binary_logloss: 0.184349\n",
      "[333]\tvalid_0's binary_logloss: 0.184413\n",
      "[334]\tvalid_0's binary_logloss: 0.184488\n",
      "[335]\tvalid_0's binary_logloss: 0.184556\n",
      "[336]\tvalid_0's binary_logloss: 0.184632\n",
      "[337]\tvalid_0's binary_logloss: 0.184703\n",
      "[338]\tvalid_0's binary_logloss: 0.18479\n",
      "[339]\tvalid_0's binary_logloss: 0.184851\n",
      "[340]\tvalid_0's binary_logloss: 0.184962\n",
      "[341]\tvalid_0's binary_logloss: 0.185036\n",
      "[342]\tvalid_0's binary_logloss: 0.185093\n",
      "[343]\tvalid_0's binary_logloss: 0.185182\n",
      "[344]\tvalid_0's binary_logloss: 0.185248\n",
      "[345]\tvalid_0's binary_logloss: 0.185304\n",
      "[346]\tvalid_0's binary_logloss: 0.185381\n",
      "[347]\tvalid_0's binary_logloss: 0.185465\n",
      "[348]\tvalid_0's binary_logloss: 0.18555\n",
      "[349]\tvalid_0's binary_logloss: 0.185632\n",
      "[350]\tvalid_0's binary_logloss: 0.185716\n",
      "[351]\tvalid_0's binary_logloss: 0.18578\n",
      "[352]\tvalid_0's binary_logloss: 0.185865\n",
      "[353]\tvalid_0's binary_logloss: 0.185951\n",
      "[354]\tvalid_0's binary_logloss: 0.186047\n",
      "[355]\tvalid_0's binary_logloss: 0.186131\n",
      "[356]\tvalid_0's binary_logloss: 0.186229\n",
      "[357]\tvalid_0's binary_logloss: 0.186288\n",
      "[358]\tvalid_0's binary_logloss: 0.186352\n",
      "[359]\tvalid_0's binary_logloss: 0.186476\n",
      "[360]\tvalid_0's binary_logloss: 0.186557\n",
      "[361]\tvalid_0's binary_logloss: 0.186653\n",
      "[362]\tvalid_0's binary_logloss: 0.186752\n",
      "[363]\tvalid_0's binary_logloss: 0.186824\n",
      "[364]\tvalid_0's binary_logloss: 0.186894\n",
      "[365]\tvalid_0's binary_logloss: 0.186963\n",
      "[366]\tvalid_0's binary_logloss: 0.187066\n",
      "[367]\tvalid_0's binary_logloss: 0.187214\n",
      "[368]\tvalid_0's binary_logloss: 0.187298\n",
      "[369]\tvalid_0's binary_logloss: 0.187423\n",
      "[370]\tvalid_0's binary_logloss: 0.187538\n",
      "[371]\tvalid_0's binary_logloss: 0.187616\n",
      "[372]\tvalid_0's binary_logloss: 0.187723\n",
      "[373]\tvalid_0's binary_logloss: 0.187787\n",
      "[374]\tvalid_0's binary_logloss: 0.187881\n",
      "[375]\tvalid_0's binary_logloss: 0.187949\n",
      "[376]\tvalid_0's binary_logloss: 0.188024\n",
      "[377]\tvalid_0's binary_logloss: 0.188096\n",
      "[378]\tvalid_0's binary_logloss: 0.188217\n",
      "[379]\tvalid_0's binary_logloss: 0.188333\n",
      "[380]\tvalid_0's binary_logloss: 0.188437\n",
      "[381]\tvalid_0's binary_logloss: 0.188507\n",
      "[382]\tvalid_0's binary_logloss: 0.188592\n",
      "[383]\tvalid_0's binary_logloss: 0.188673\n",
      "[384]\tvalid_0's binary_logloss: 0.188817\n",
      "[385]\tvalid_0's binary_logloss: 0.188935\n",
      "[386]\tvalid_0's binary_logloss: 0.189011\n",
      "[387]\tvalid_0's binary_logloss: 0.189085\n",
      "[388]\tvalid_0's binary_logloss: 0.189166\n",
      "[389]\tvalid_0's binary_logloss: 0.189271\n",
      "[390]\tvalid_0's binary_logloss: 0.189364\n",
      "[391]\tvalid_0's binary_logloss: 0.189529\n",
      "[392]\tvalid_0's binary_logloss: 0.189601\n",
      "[393]\tvalid_0's binary_logloss: 0.189694\n",
      "[394]\tvalid_0's binary_logloss: 0.189779\n",
      "[395]\tvalid_0's binary_logloss: 0.189935\n",
      "[396]\tvalid_0's binary_logloss: 0.190042\n",
      "[397]\tvalid_0's binary_logloss: 0.190144\n",
      "[398]\tvalid_0's binary_logloss: 0.190215\n",
      "[399]\tvalid_0's binary_logloss: 0.190304\n",
      "[400]\tvalid_0's binary_logloss: 0.190375\n",
      "[401]\tvalid_0's binary_logloss: 0.190446\n",
      "[402]\tvalid_0's binary_logloss: 0.190513\n",
      "[403]\tvalid_0's binary_logloss: 0.190588\n"
     ]
    },
    {
     "name": "stdout",
     "output_type": "stream",
     "text": [
      "[404]\tvalid_0's binary_logloss: 0.190738\n",
      "[405]\tvalid_0's binary_logloss: 0.190839\n",
      "[406]\tvalid_0's binary_logloss: 0.190906\n",
      "[407]\tvalid_0's binary_logloss: 0.191006\n",
      "[408]\tvalid_0's binary_logloss: 0.191105\n",
      "[409]\tvalid_0's binary_logloss: 0.191184\n",
      "[410]\tvalid_0's binary_logloss: 0.19128\n",
      "[411]\tvalid_0's binary_logloss: 0.191399\n",
      "[412]\tvalid_0's binary_logloss: 0.191484\n",
      "[413]\tvalid_0's binary_logloss: 0.19157\n",
      "[414]\tvalid_0's binary_logloss: 0.191635\n",
      "[415]\tvalid_0's binary_logloss: 0.191738\n",
      "[416]\tvalid_0's binary_logloss: 0.191823\n",
      "[417]\tvalid_0's binary_logloss: 0.191938\n",
      "[418]\tvalid_0's binary_logloss: 0.192009\n",
      "[419]\tvalid_0's binary_logloss: 0.192105\n",
      "[420]\tvalid_0's binary_logloss: 0.192178\n",
      "[421]\tvalid_0's binary_logloss: 0.192273\n",
      "[422]\tvalid_0's binary_logloss: 0.192347\n",
      "[423]\tvalid_0's binary_logloss: 0.192407\n",
      "[424]\tvalid_0's binary_logloss: 0.192513\n",
      "[425]\tvalid_0's binary_logloss: 0.192628\n",
      "[426]\tvalid_0's binary_logloss: 0.192743\n",
      "[427]\tvalid_0's binary_logloss: 0.192823\n",
      "Early stopping, best iteration is:\n",
      "[277]\tvalid_0's binary_logloss: 0.182028\n"
     ]
    },
    {
     "data": {
      "text/plain": [
       "LGBMRegressor(boosting_type='gbdt', class_weight=None, colsample_bytree=0.65,\n",
       "       device='gpu', gpu_device_id=0, gpu_platform_id=0,\n",
       "       learning_rate=0.01, max_depth=8, min_child_samples=20,\n",
       "       min_child_weight=0.001, min_split_gain=0.0, n_estimators=2000,\n",
       "       n_jobs=-1, num_leaves=64, objective='binary', random_state=None,\n",
       "       reg_alpha=1, reg_lambda=0.0, silent=True, subsample=0.7,\n",
       "       subsample_for_bin=200000, subsample_freq=1)"
      ]
     },
     "execution_count": 90,
     "metadata": {},
     "output_type": "execute_result"
    }
   ],
   "source": [
    "\n",
    "import lightgbm as lgb\n",
    "gbm = lgb.LGBMRegressor(objective='binary',\n",
    "                        num_leaves=64,\n",
    "                        max_depth = 8,\n",
    "                        device = \"gpu\",\n",
    "                        gpu_platform_id = 0,\n",
    "                        gpu_device_id = 0,\n",
    "                        learning_rate=0.01,\n",
    "                        n_estimators=2000,\n",
    "                        colsample_bytree = 0.65,\n",
    "                        subsample = 0.7,\n",
    "                        reg_alpha = 1\n",
    "                       )\n",
    "gbm.fit(train, y_train,\n",
    "        eval_set=[(val, y_val)],\n",
    "        eval_metric='binary_logloss',\n",
    "        early_stopping_rounds=150)\n",
    "\n"
   ]
  },
  {
   "cell_type": "code",
   "execution_count": 91,
   "metadata": {
    "scrolled": true
   },
   "outputs": [
    {
     "name": "stdout",
     "output_type": "stream",
     "text": [
      "Start predicting...\n",
      "0.0740458167255\n"
     ]
    }
   ],
   "source": [
    "print('Start predicting...')\n",
    "# predict\n",
    "# y_pred_1 = gbm.predict(val, num_iteration=gbm.best_iteration_ )\n",
    "y_sub_1 = gbm.predict(test_a, num_iteration=gbm.best_iteration_ )\n",
    "print(log_loss(y_train,gbm.predict(train)))\n",
    "# print(log_loss(y_val,y_pred_1))\n",
    "\n",
    "# print(log_loss(y_val,(y_pred_1 + proba_val)/2))#0.0802392979662"
   ]
  },
  {
   "cell_type": "code",
   "execution_count": 33,
   "metadata": {
    "collapsed": true
   },
   "outputs": [],
   "source": [
    "\n",
    "# import numpy as np\n",
    "# bes = 1\n",
    "# for i in np.arange(0,1,0.01):\n",
    "#     if(log_loss(y_val,(i * y_pred_1 + (1-i) * proba_val)) < bes):\n",
    "#         bes = log_loss(y_val,(y_pred_1 + proba_val)/2)\n",
    "# print(bes)#0.083131236937\n",
    "\n",
    "# xx_analyse = pd.DataFrame()\n",
    "# xx_analyse['ture'] = list(y_val)\n",
    "# xx_analyse['pre'] = list(proba_val)\n",
    "# xx_analyse['pre_1'] = list(y_pred_1)\n",
    "# xx_analyse.to_csv('temp.csv',index=False)\n",
    "#\n",
    "# sub = pd.DataFrame()\n",
    "# sub['instance_id'] = list(test_index)\n",
    "# sub['predicted_score'] = list(y_sub_1)\n",
    "# sub.to_csv('feather/20180327.txt',sep=\" \",index=False)"
   ]
  },
  {
   "cell_type": "code",
   "execution_count": 34,
   "metadata": {},
   "outputs": [
    {
     "data": {
      "text/plain": [
       "(519888,)"
      ]
     },
     "execution_count": 34,
     "metadata": {},
     "output_type": "execute_result"
    }
   ],
   "source": [
    "y_sub_1.shape"
   ]
  },
  {
   "cell_type": "code",
   "execution_count": 35,
   "metadata": {},
   "outputs": [
    {
     "data": {
      "text/plain": [
       "array([ 0.03500097,  0.0337831 ,  0.04590906, ...,  0.03276625,\n",
       "        0.05857461,  0.04220761])"
      ]
     },
     "execution_count": 35,
     "metadata": {},
     "output_type": "execute_result"
    }
   ],
   "source": [
    "y_sub_1"
   ]
  },
  {
   "cell_type": "code",
   "execution_count": 36,
   "metadata": {
    "collapsed": true
   },
   "outputs": [],
   "source": [
    "sub = pd.DataFrame()\n",
    "sub['instance_id'] = list(test_index)\n",
    "sub['predicted_score'] = list(y_sub_1)\n",
    "sub.to_csv('20180430.txt',sep=\" \",index=False)"
   ]
  },
  {
   "cell_type": "code",
   "execution_count": null,
   "metadata": {
    "collapsed": true
   },
   "outputs": [],
   "source": []
  },
  {
   "cell_type": "code",
   "execution_count": null,
   "metadata": {
    "collapsed": true
   },
   "outputs": [],
   "source": []
  },
  {
   "cell_type": "code",
   "execution_count": null,
   "metadata": {
    "collapsed": true
   },
   "outputs": [],
   "source": []
  }
 ],
 "metadata": {
  "kernelspec": {
   "display_name": "Python 3",
   "language": "python",
   "name": "python3"
  },
  "language_info": {
   "codemirror_mode": {
    "name": "ipython",
    "version": 3
   },
   "file_extension": ".py",
   "mimetype": "text/x-python",
   "name": "python",
   "nbconvert_exporter": "python",
   "pygments_lexer": "ipython3",
   "version": "3.6.3"
  }
 },
 "nbformat": 4,
 "nbformat_minor": 2
}
