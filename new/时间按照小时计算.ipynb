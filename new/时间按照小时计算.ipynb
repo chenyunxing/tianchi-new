{
 "cells": [
  {
   "cell_type": "code",
   "execution_count": 1,
   "metadata": {
    "collapsed": true
   },
   "outputs": [],
   "source": [
    "#coding:utf-8\n",
    "import pandas as pd\n",
    "import time\n",
    "\n",
    "from sklearn.metrics import log_loss\n",
    "import pandas as pd\n",
    "import numpy as np\n",
    "import seaborn as sns\n",
    "import matplotlib.pyplot as plt\n",
    "%matplotlib inline\n",
    "from scipy import stats\n",
    "from scipy.stats import norm, skew #加载一些统计的库"
   ]
  },
  {
   "cell_type": "code",
   "execution_count": 2,
   "metadata": {
    "collapsed": true
   },
   "outputs": [],
   "source": [
    "def time2cov(time_):\n",
    "    '''\n",
    "    时间是根据天数推移，所以日期为脱敏，但是时间本身不脱敏\n",
    "    :param time_: \n",
    "    :return: \n",
    "    '''\n",
    "    return time.strftime(\"%Y-%m-%d %H:%M:%S\",time.localtime(time_))"
   ]
  },
  {
   "cell_type": "code",
   "execution_count": 3,
   "metadata": {
    "collapsed": true
   },
   "outputs": [],
   "source": [
    "def pre_process(data):\n",
    "    '''\n",
    "    :param data: \n",
    "    :return: \n",
    "    '''\n",
    "\n",
    "    print('预处理')\n",
    "    print('context_timestamp_ing')\n",
    "    data['context_timestamp'] = data['context_timestamp'].apply(time2cov)\n",
    "\n",
    "    print('time')\n",
    "    data['context_timestamp_tmp'] = pd.to_datetime(data['context_timestamp'])\n",
    "    data['week'] = data['context_timestamp_tmp'].dt.weekday\n",
    "    data['hour'] = data['context_timestamp_tmp'].dt.hour\n",
    "    data['minute'] = data['context_timestamp_tmp'].dt.minute\n",
    "    data['halfhour'] = (data['hour']+1)*6+(data['minute']/10).astype('int')\n",
    "    del data['context_timestamp_tmp']\n",
    "    return data"
   ]
  },
  {
   "cell_type": "code",
   "execution_count": 5,
   "metadata": {
    "collapsed": true
   },
   "outputs": [],
   "source": [
    "data = pd.read_table('train.txt',sep=' ',index_col=False)\n",
    "data2 = pd.read_table('test.txt',sep=' ',index_col=False) "
   ]
  },
  {
   "cell_type": "code",
   "execution_count": 6,
   "metadata": {},
   "outputs": [
    {
     "name": "stdout",
     "output_type": "stream",
     "text": [
      "预处理\n",
      "context_timestamp_ing\n",
      "time\n",
      "预处理\n",
      "context_timestamp_ing\n",
      "time\n"
     ]
    }
   ],
   "source": [
    "data = pre_process(data)\n",
    "data2 = pre_process(data2)"
   ]
  },
  {
   "cell_type": "code",
   "execution_count": null,
   "metadata": {
    "collapsed": true,
    "scrolled": true
   },
   "outputs": [],
   "source": []
  },
  {
   "cell_type": "code",
   "execution_count": 4,
   "metadata": {
    "collapsed": true
   },
   "outputs": [],
   "source": [
    "# 3 -6,1-2,7-8,9-12,13-18,19-22,23-1\n",
    "def change(x):\n",
    "    if (0==x) or (x>=23):\n",
    "        return 1\n",
    "    elif x>=3 and x<=6:\n",
    "        return 2\n",
    "    elif x>=7 and x<=8:\n",
    "        return 3\n",
    "    elif x>=9 and x<=12:\n",
    "        return 4\n",
    "    elif x>=13 and x<=18:\n",
    "        return 5\n",
    "    elif x>=19 and x<=22:\n",
    "        return 6\n",
    "    elif x<=2 and x>=1:\n",
    "        return 7"
   ]
  },
  {
   "cell_type": "code",
   "execution_count": 8,
   "metadata": {
    "collapsed": true
   },
   "outputs": [],
   "source": [
    "data['hour'] = data['hour'].apply(change)\n",
    "data2['hour'] = data2['hour'].apply(change)"
   ]
  },
  {
   "cell_type": "code",
   "execution_count": 9,
   "metadata": {
    "collapsed": true,
    "scrolled": true
   },
   "outputs": [],
   "source": [
    "data = data.rename(columns=({'hour':'hour_num'}))\n",
    "data2 = data2.rename(columns=({'hour':'hour_num'}))"
   ]
  },
  {
   "cell_type": "code",
   "execution_count": null,
   "metadata": {
    "collapsed": true
   },
   "outputs": [],
   "source": []
  },
  {
   "cell_type": "code",
   "execution_count": 10,
   "metadata": {
    "collapsed": true
   },
   "outputs": [],
   "source": [
    "data[['instance_id','hour_num']].to_csv('train_hour.csv',index=False) \n",
    "data2[['instance_id','hour_num']].to_csv('test_hour.csv',index=False) "
   ]
  },
  {
   "cell_type": "code",
   "execution_count": null,
   "metadata": {
    "collapsed": true
   },
   "outputs": [],
   "source": []
  },
  {
   "cell_type": "code",
   "execution_count": null,
   "metadata": {
    "collapsed": true
   },
   "outputs": [],
   "source": []
  },
  {
   "cell_type": "code",
   "execution_count": null,
   "metadata": {
    "collapsed": true
   },
   "outputs": [],
   "source": []
  },
  {
   "cell_type": "code",
   "execution_count": 5,
   "metadata": {
    "collapsed": true
   },
   "outputs": [],
   "source": [
    "data2 = pd.read_table('test1.txt',sep=' ',index_col=False) "
   ]
  },
  {
   "cell_type": "code",
   "execution_count": 6,
   "metadata": {},
   "outputs": [
    {
     "name": "stdout",
     "output_type": "stream",
     "text": [
      "预处理\n",
      "context_timestamp_ing\n",
      "time\n"
     ]
    }
   ],
   "source": [
    "data2 = pre_process(data2)"
   ]
  },
  {
   "cell_type": "code",
   "execution_count": 7,
   "metadata": {
    "collapsed": true
   },
   "outputs": [],
   "source": [
    "data2['hour'] = data2['hour'].apply(change)"
   ]
  },
  {
   "cell_type": "code",
   "execution_count": 8,
   "metadata": {
    "collapsed": true
   },
   "outputs": [],
   "source": [
    "data2 = data2.rename(columns=({'hour':'hour_num'}))"
   ]
  },
  {
   "cell_type": "code",
   "execution_count": 9,
   "metadata": {
    "collapsed": true
   },
   "outputs": [],
   "source": [
    "data2[['instance_id','hour_num']].to_csv('test1_hour.csv',index=False) "
   ]
  },
  {
   "cell_type": "code",
   "execution_count": null,
   "metadata": {
    "collapsed": true
   },
   "outputs": [],
   "source": []
  }
 ],
 "metadata": {
  "kernelspec": {
   "display_name": "Python 3",
   "language": "python",
   "name": "python3"
  },
  "language_info": {
   "codemirror_mode": {
    "name": "ipython",
    "version": 3
   },
   "file_extension": ".py",
   "mimetype": "text/x-python",
   "name": "python",
   "nbconvert_exporter": "python",
   "pygments_lexer": "ipython3",
   "version": "3.6.3"
  }
 },
 "nbformat": 4,
 "nbformat_minor": 2
}
