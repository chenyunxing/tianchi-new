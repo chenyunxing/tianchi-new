{
 "cells": [
  {
   "cell_type": "code",
   "execution_count": 1,
   "metadata": {
    "collapsed": true
   },
   "outputs": [],
   "source": [
    "#coding:utf-8\n",
    "import pandas as pd\n",
    "import time\n",
    "import gc\n",
    "from sklearn.metrics import log_loss\n",
    "def time2cov(time_):\n",
    "    '''\n",
    "    时间是根据天数推移，所以日期为脱敏，但是时间本身不脱敏\n",
    "    :param time_: \n",
    "    :return: \n",
    "    '''\n",
    "    return time.strftime(\"%Y-%m-%d %H:%M:%S\",time.localtime(time_))\n",
    "def pre_process(data):\n",
    "    '''\n",
    "    :param data: \n",
    "    :return: \n",
    "    '''\n",
    "\n",
    "    print('预处理')\n",
    "    print('item_category_list_ing')\n",
    "    for i in range(3):\n",
    "        data['category_%d'%(i)] = data['item_category_list'].apply(\n",
    "            lambda x:x.split(\";\")[i] if len(x.split(\";\")) > i else \" \"\n",
    "        )\n",
    "    del data['item_category_list']\n",
    "\n",
    "    print('item_property_list_ing')\n",
    "    for i in range(3):\n",
    "        data['property_%d'%(i)] = data['item_property_list'].apply(\n",
    "            lambda x:x.split(\";\")[i] if len(x.split(\";\")) > i else \" \"\n",
    "        )\n",
    "    del data['item_property_list']\n",
    "\n",
    "    print('context_timestamp_ing')\n",
    "    data['context_timestamp'] = data['context_timestamp'].apply(time2cov)\n",
    "\n",
    "    print('time')\n",
    "    data['context_timestamp_tmp'] = pd.to_datetime(data['context_timestamp'])\n",
    "    data['week'] = data['context_timestamp_tmp'].dt.weekday\n",
    "    data['hour'] = data['context_timestamp_tmp'].dt.hour\n",
    "    data['minute'] = data['context_timestamp_tmp'].dt.minute\n",
    "    data['day'] = data['context_timestamp_tmp'].dt.day\n",
    "    data['halfhour'] = (data['hour']+1)*3+(data['minute']/20).astype('int')\n",
    "    del data['context_timestamp_tmp']\n",
    "    del data['minute']\n",
    "    del data['week']\n",
    "    del data['hour']\n",
    "    del data['predict_category_property']\n",
    "    # del data['predict_property_1']\n",
    "    # del data['predict_property_2']\n",
    "    del data['shop_score_service']\n",
    "    del data['shop_score_description']\n",
    "    del data['shop_review_positive_rate']\n",
    "    del data['shop_score_delivery']\n",
    "    return data"
   ]
  },
  {
   "cell_type": "code",
   "execution_count": 2,
   "metadata": {},
   "outputs": [
    {
     "name": "stdout",
     "output_type": "stream",
     "text": [
      "train\n"
     ]
    }
   ],
   "source": [
    "print('train')\n",
    "train = pd.read_table('train.txt',sep=' ',index_col=False)\n",
    "dataa = pd.read_csv('train_all.csv',index_col=False)"
   ]
  },
  {
   "cell_type": "markdown",
   "metadata": {},
   "source": [
    "## 特征选择"
   ]
  },
  {
   "cell_type": "code",
   "execution_count": 3,
   "metadata": {},
   "outputs": [
    {
     "data": {
      "text/plain": [
       "Index(['instance_id', 'hour_num', 'item_click', 'shop_score_service_num',\n",
       "       'shop_score_description_num', 'shop_review_positive_rate_num',\n",
       "       'shop_score_delivery_num', 'user_click', 'property_0_click',\n",
       "       'property_1_click', 'property_2_click', 'shop_click', 'brand_click',\n",
       "       'category_1_pvnum', 'category_1_first', 'category_1_last',\n",
       "       'property_0_pvnum', 'property_0_first', 'property_0_last',\n",
       "       'property_1_pvnum', 'property_1_first', 'property_1_last',\n",
       "       'item_id_pvnum', 'item_id_first', 'item_id_last', 'occupation_click',\n",
       "       'user_gender_click', 'day_click'],\n",
       "      dtype='object')"
      ]
     },
     "execution_count": 3,
     "metadata": {},
     "output_type": "execute_result"
    }
   ],
   "source": [
    "dataa.columns"
   ]
  },
  {
   "cell_type": "code",
   "execution_count": 4,
   "metadata": {
    "collapsed": true
   },
   "outputs": [],
   "source": [
    "tezheng = ['instance_id', 'hour_num', 'item_click', 'shop_score_service_num',\n",
    "       'shop_score_description_num', 'shop_review_positive_rate_num',\n",
    "       'shop_score_delivery_num', 'user_click', 'property_0_click',\n",
    "       'property_1_click', 'shop_click', 'brand_click',\n",
    "       'category_1_pvnum', 'category_1_first', 'category_1_last',\n",
    "       'property_0_pvnum', 'property_0_first', 'property_0_last',\n",
    "       'property_1_pvnum', 'property_1_first', 'property_1_last',\n",
    "       'item_id_pvnum', 'item_id_first', 'item_id_last', 'occupation_click',\n",
    "       'user_gender_click', 'day_click']"
   ]
  },
  {
   "cell_type": "code",
   "execution_count": 5,
   "metadata": {
    "collapsed": true
   },
   "outputs": [],
   "source": [
    "dataa = dataa[tezheng]"
   ]
  },
  {
   "cell_type": "code",
   "execution_count": 6,
   "metadata": {},
   "outputs": [
    {
     "name": "stdout",
     "output_type": "stream",
     "text": [
      "预处理\n",
      "item_category_list_ing\n",
      "item_property_list_ing\n",
      "context_timestamp_ing\n",
      "time\n"
     ]
    }
   ],
   "source": [
    "\n",
    "train = pd.merge(train,dataa,on=['instance_id'],how='left')\n",
    "del(dataa)\n",
    "gc.collect()\n",
    "train = pre_process(train)"
   ]
  },
  {
   "cell_type": "code",
   "execution_count": 7,
   "metadata": {
    "scrolled": false
   },
   "outputs": [
    {
     "name": "stdout",
     "output_type": "stream",
     "text": [
      "all_shape (10432036, 54)\n",
      "2018-09-07 11:59:59\n",
      "(9354861, 54)\n",
      "(1077175, 54)\n"
     ]
    }
   ],
   "source": [
    "all_data = train.copy()\n",
    "print('all_shape',train.shape)\n",
    "print(train['context_timestamp'].max())\n",
    "val = train[train['day'] == 7]\n",
    "\n",
    "# 空去 22 号\n",
    "\n",
    "train = train[train['day'] != 7]\n",
    "\n",
    "# train = train[train['context_timestamp']>'2018-09-19 23:59:59']\n",
    "print(train.shape)\n",
    "print(val.shape)\n"
   ]
  },
  {
   "cell_type": "code",
   "execution_count": 8,
   "metadata": {},
   "outputs": [
    {
     "name": "stdout",
     "output_type": "stream",
     "text": [
      "test\n"
     ]
    }
   ],
   "source": [
    "\n",
    "print('test')\n",
    "test_a = pd.read_table('test.txt',sep=' ',index_col=False) \n",
    "data2a = pd.read_csv('test_all.csv',index_col=False) \n",
    "\n",
    "# del train[['user_id', 'category_1', 'property_2', 'property_0']]\n",
    "# del val[['user_id', 'category_1', 'property_2', 'property_0']]\n",
    "# del test_a[['user_id', 'category_1', 'property_2', 'property_0']]\n",
    "# 这里是增加的内容\n"
   ]
  },
  {
   "cell_type": "markdown",
   "metadata": {},
   "source": [
    "## 特征选择"
   ]
  },
  {
   "cell_type": "code",
   "execution_count": 9,
   "metadata": {
    "collapsed": true
   },
   "outputs": [],
   "source": [
    "data2a = data2a[tezheng]"
   ]
  },
  {
   "cell_type": "code",
   "execution_count": 10,
   "metadata": {},
   "outputs": [
    {
     "data": {
      "text/plain": [
       "Index(['instance_id', 'item_id', 'item_category_list', 'item_property_list',\n",
       "       'item_brand_id', 'item_city_id', 'item_price_level', 'item_sales_level',\n",
       "       'item_collected_level', 'item_pv_level', 'user_id', 'user_gender_id',\n",
       "       'user_age_level', 'user_occupation_id', 'user_star_level', 'context_id',\n",
       "       'context_timestamp', 'context_page_id', 'predict_category_property',\n",
       "       'shop_id', 'shop_review_num_level', 'shop_review_positive_rate',\n",
       "       'shop_star_level', 'shop_score_service', 'shop_score_delivery',\n",
       "       'shop_score_description'],\n",
       "      dtype='object')"
      ]
     },
     "execution_count": 10,
     "metadata": {},
     "output_type": "execute_result"
    }
   ],
   "source": [
    "test_a.columns"
   ]
  },
  {
   "cell_type": "code",
   "execution_count": 11,
   "metadata": {},
   "outputs": [
    {
     "name": "stdout",
     "output_type": "stream",
     "text": [
      "(519888, 52)\n",
      "预处理\n",
      "item_category_list_ing\n",
      "item_property_list_ing\n",
      "context_timestamp_ing\n",
      "time\n"
     ]
    }
   ],
   "source": [
    "test_a = pd.merge(test_a,data2a,on=['instance_id'],how='left')\n",
    "del(data2a)\n",
    "gc.collect()\n",
    "print(test_a.shape)\n",
    "test_a = pre_process(test_a)\n",
    "del train['item_city_id']\n",
    "del val['item_city_id']\n",
    "del test_a['item_city_id']\n",
    "del train['shop_id']\n",
    "del val['shop_id']\n",
    "del test_a['shop_id']\n",
    "del train['context_id']\n",
    "del val['context_id']\n",
    "del test_a['context_id']\n",
    "del train['item_brand_id']\n",
    "del val['item_brand_id']\n",
    "del test_a['item_brand_id']\n",
    "# del train['category_0']\n",
    "# del val['category_0']\n",
    "# del test_a['category_0']\n",
    "# del train['category_2']\n",
    "# del val['category_2']\n",
    "# del test_a['category_2']\n",
    "# del train['property_1']\n",
    "# del val['property_1']\n",
    "# del test_a['property_1']\n",
    "# del train['property_2']\n",
    "# del val['property_2']\n",
    "# del test_a['property_2']"
   ]
  },
  {
   "cell_type": "code",
   "execution_count": 12,
   "metadata": {
    "collapsed": true
   },
   "outputs": [],
   "source": [
    "\n",
    "# import datetime\n",
    "# def get_count_feat(all_data,data,long=3):\n",
    "#     end_time = data['context_timestamp'].min()\n",
    "#     begin_time = pd.to_datetime(end_time) - datetime.timedelta(days=long)\n",
    "#     all_data['context_timestamp'] = pd.to_datetime(all_data['context_timestamp'])\n",
    "#     all_data = all_data[\n",
    "#         (all_data['context_timestamp']<end_time)&(all_data['context_timestamp']>=begin_time)\n",
    "#                     ]\n",
    "    \n",
    "#     print(end_time)\n",
    "#     print(begin_time)\n",
    "#     print(all_data['context_timestamp'].max()-all_data['context_timestamp'].min())\n",
    "#     item_count = all_data.groupby(['item_id'],as_index=False).size().reset_index()\n",
    "#     item_count.rename(columns={0:'item_count'},inplace=True)\n",
    "\n",
    "#     user_count = all_data.groupby(['user_id'], as_index=False).size().reset_index()\n",
    "#     user_count.rename(columns={0: 'user_count'}, inplace=True)\n",
    "#     return user_count,item_count\n",
    "\n",
    "\n"
   ]
  },
  {
   "cell_type": "code",
   "execution_count": 13,
   "metadata": {},
   "outputs": [
    {
     "name": "stdout",
     "output_type": "stream",
     "text": [
      "(519888, 48)\n"
     ]
    }
   ],
   "source": [
    "\n",
    "# train_user_count,train_item_count = get_count_feat(all_data,train,2)\n",
    "\n",
    "# test_user_count,test_item_count = get_count_feat(all_data,test_a,2)\n",
    "\n",
    "# val_user_count,val_item_count = get_count_feat(all_data,val,2)\n",
    "# # print(train.columns)\n",
    "# train = pd.merge(train,train_user_count,on=['user_id'],how='left')\n",
    "# train = pd.merge(train,train_item_count,on=['item_id'],how='left')\n",
    "# train = train.fillna(-1)\n",
    "# val = pd.merge(val,val_user_count,on=['user_id'],how='left')\n",
    "# val = pd.merge(val,val_item_count,on=['item_id'],how='left')\n",
    "# val = val.fillna(-1)\n",
    "# test_a = pd.merge(test_a,test_user_count,on=['user_id'],how='left')\n",
    "# test_a = pd.merge(test_a,test_item_count,on=['item_id'],how='left')\n",
    "# test_a = test_a.fillna(-1)\n",
    "\n",
    "# 删掉上面增加的用户点击量与商品点击量\n",
    "# del train['user_count']\n",
    "# del train['item_count']\n",
    "# del val['user_count']\n",
    "# del val['item_count']\n",
    "# del test_a['user_count']\n",
    "# del test_a['item_count']\n",
    "\n",
    "# user_item_count = pd.read_csv\n",
    "\n",
    "\n",
    "y_train = train.pop('is_trade')\n",
    "train_index = train.pop('instance_id')\n",
    "\n",
    "y_val = val.pop('is_trade')\n",
    "val_index = val.pop('instance_id')\n",
    "test_index = test_a.pop('instance_id')\n",
    "\n",
    "print(test_a.shape)\n",
    "del train['context_timestamp']\n",
    "del val['context_timestamp']\n",
    "del test_a['context_timestamp']\n",
    "del all_data\n"
   ]
  },
  {
   "cell_type": "code",
   "execution_count": null,
   "metadata": {
    "collapsed": true
   },
   "outputs": [],
   "source": []
  },
  {
   "cell_type": "code",
   "execution_count": 14,
   "metadata": {},
   "outputs": [
    {
     "name": "stdout",
     "output_type": "stream",
     "text": [
      "baseline ing ... ...\n"
     ]
    }
   ],
   "source": [
    "print('baseline ing ... ...')\n",
    "from sklearn.preprocessing import LabelEncoder,OneHotEncoder\n",
    "from scipy import sparse\n",
    "from sklearn.linear_model import LogisticRegression"
   ]
  },
  {
   "cell_type": "code",
   "execution_count": 15,
   "metadata": {
    "collapsed": true
   },
   "outputs": [],
   "source": [
    "\n",
    "# print('baseline ing ... ...')\n",
    "# from sklearn.preprocessing import LabelEncoder,OneHotEncoder\n",
    "# from scipy import sparse\n",
    "# from sklearn.linear_model import LogisticRegression\n",
    "# # print(test_a.columns)\n",
    "\n",
    "# enc = OneHotEncoder()\n",
    "# lb = LabelEncoder()\n",
    "# # feat_set = list(test_a.columns)\n",
    "\n",
    "# del train['user_id']\n",
    "# del test_a['user_id']\n",
    "# del val['user_id']\n",
    "# # del train['item_id']\n",
    "# # del test_a['item_id']\n",
    "# # del val['item_id']\n",
    "# # 8288\n",
    "\n",
    "# print(train.columns)\n",
    "\n",
    "# # 自己使用onehot编码\n",
    "# train['x_train'] = 1\n",
    "# test_a['x_test'] = 1\n",
    "# val['x_val'] = 1\n",
    "\n",
    "# all_data = pd.concat([train,test_a,val])\n",
    "# all_data = pd.get_dummies(all_data)\n",
    "# print(all_data.shape)\n",
    "\n",
    "# X_train = all_data.loc[all_data['x_train'].notnull()]\n",
    "# X_test = all_data.loc[all_data['x_test'].notnull()]\n",
    "# X_val = all_data.loc[all_data['x_val'].notnull()]\n",
    "\n",
    "# del X_train['x_train']\n",
    "# del X_train['x_test']\n",
    "# del X_train['x_val']\n",
    "# del X_test['x_train']\n",
    "# del X_test['x_test']\n",
    "# del X_test['x_val']\n",
    "# del X_val['x_train']\n",
    "# del X_val['x_test']\n",
    "# del X_val['x_val']\n"
   ]
  },
  {
   "cell_type": "code",
   "execution_count": 16,
   "metadata": {
    "collapsed": true
   },
   "outputs": [],
   "source": [
    "# LogisticRegression?"
   ]
  },
  {
   "cell_type": "code",
   "execution_count": 17,
   "metadata": {
    "collapsed": true
   },
   "outputs": [],
   "source": [
    "\n",
    "# lr = LogisticRegression(C=5.0,penalty='l1')\n",
    "\n",
    "# lr.fit(X_train, y_train)\n"
   ]
  },
  {
   "cell_type": "code",
   "execution_count": 18,
   "metadata": {
    "collapsed": true
   },
   "outputs": [],
   "source": [
    "\n",
    "# proba_val = lr.predict_proba(X_val)[:,1]\n",
    "# proba_sub = lr.predict_proba(X_test)[:,1]\n",
    "# print(log_loss(y_train,lr.predict_proba(X_train)[:,1]))\n",
    "# print(log_loss(y_val,proba_val))\n",
    "# print()"
   ]
  },
  {
   "cell_type": "code",
   "execution_count": null,
   "metadata": {
    "collapsed": true
   },
   "outputs": [],
   "source": []
  },
  {
   "cell_type": "code",
   "execution_count": 19,
   "metadata": {
    "collapsed": true
   },
   "outputs": [],
   "source": [
    "def change(x):\n",
    "    if x == ' ':\n",
    "        return -1\n",
    "    else:\n",
    "        return x"
   ]
  },
  {
   "cell_type": "code",
   "execution_count": 20,
   "metadata": {
    "collapsed": true
   },
   "outputs": [],
   "source": [
    "# val['category_0'] = val['category_0'].apply(change)\n",
    "val['category_1'] = val['category_1'].apply(change)\n",
    "val['category_2'] = val['category_2'].apply(change)\n",
    "# val['property_0'] = val['property_0'].apply(change)\n",
    "# val['property_1'] = val['property_1'].apply(change)\n",
    "# val['property_2'] = val['property_2'].apply(change)\n",
    "# train = pd.DataFrame(train,dtype='float')\n",
    "# train['category_0'] = train['category_0'].apply(change)\n",
    "train['category_1'] = train['category_1'].apply(change)\n",
    "train['category_2'] = train['category_2'].apply(change)\n",
    "# train['property_0'] = train['property_0'].apply(change)\n",
    "# train['property_1'] = train['property_1'].apply(change)\n",
    "# train['property_2'] = train['property_2'].apply(change)\n",
    "\n",
    "# test_a['category_0'] = test_a['category_0'].apply(change)\n",
    "test_a['category_1'] = test_a['category_1'].apply(change)\n",
    "test_a['category_2'] = test_a['category_2'].apply(change)\n",
    "# test_a['property_0'] = test_a['property_0'].apply(change)\n",
    "# test_a['property_1'] = test_a['property_1'].apply(change)\n",
    "# test_a['property_2'] = test_a['property_2'].apply(change)"
   ]
  },
  {
   "cell_type": "code",
   "execution_count": 21,
   "metadata": {
    "collapsed": true
   },
   "outputs": [],
   "source": [
    "# category_0, category_1, category_2, property_0, property_1, property_2\n",
    "del val['category_0']\n",
    "# del val['category_1']\n",
    "# del val['category_2']\n",
    "del val['property_0']\n",
    "del val['property_1']\n",
    "del val['property_2']\n",
    "# train = pd.DataFrame(train,dtype='float')\n",
    "del train['category_0']\n",
    "# del train['category_1']\n",
    "# del train['category_2']\n",
    "del train['property_0']\n",
    "del train['property_1']\n",
    "del train['property_2']\n",
    "\n",
    "del test_a['category_0']\n",
    "# del test_a['category_1']\n",
    "# del test_a['category_2']\n",
    "del test_a['property_0']\n",
    "del test_a['property_1']\n",
    "del test_a['property_2']\n",
    "\n",
    "\n",
    "# # df['col2'] = df['col2'].astype('int')\n",
    "# # val['category_0'] = val['category_0'].astype('float64')\n",
    "# # val['category_1'] = val['category_1'].astype('float64')\n",
    "# # val['category_2'] = val['category_2'].astype('float64')\n",
    "# # val['property_0'] = val['property_0'].astype('float64')\n",
    "# # val['property_1'] = val['property_1'].astype('float64')\n",
    "# # val['property_2'] = val['property_2'].astype('float64')\n",
    "# # # train = pd.DataFrame(train,dtype='float')\n",
    "# # train['category_0'] = train['category_0'].astype('float64')\n",
    "# # train['category_1'] = train['category_1'].astype('float64')\n",
    "# # train['category_2'] = train['category_2'].astype('float64')\n",
    "# # train['property_0'] = train['property_0'].astype('float64')\n",
    "# # train['property_1'] = train['property_1'].astype('float64')\n",
    "# # train['property_2'] = train['property_2'].astype('float64')\n",
    "\n",
    "# # test_a['category_0'] = test_a['category_0'].astype('float64')\n",
    "# # test_a['category_1'] = test_a['category_1'].astype('float64')\n",
    "# # test_a['category_2'] = test_a['category_2'].astype('float64')\n",
    "# # test_a['property_0'] = test_a['property_0'].astype('float64')\n",
    "# # test_a['property_1'] = test_a['property_1'].astype('float64')\n",
    "# # test_a['property_2'] = test_a['property_2'].astype('float64')\n",
    "\n",
    "\n"
   ]
  },
  {
   "cell_type": "code",
   "execution_count": 22,
   "metadata": {
    "collapsed": true
   },
   "outputs": [],
   "source": [
    "# val['category_0'] = val['category_0'].astype('int64')\n",
    "val['category_1'] = val['category_1'].astype('int64')\n",
    "val['category_2'] = val['category_2'].astype('int64')\n",
    "# val['property_0'] = val['property_0'].astype('int64')\n",
    "# val['property_1'] = val['property_1'].astype('int64')\n",
    "# val['property_2'] = val['property_2'].astype('int64')\n",
    "# train = pd.DataFrame(train,dtype='float')\n",
    "# train['category_0'] = train['category_0'].astype('int64')\n",
    "train['category_1'] = train['category_1'].astype('int64')\n",
    "train['category_2'] = train['category_2'].astype('int64')\n",
    "# train['property_0'] = train['property_0'].astype('int64')\n",
    "# train['property_1'] = train['property_1'].astype('int64')\n",
    "# train['property_2'] = train['property_2'].astype('int64')\n",
    "\n",
    "# test_a['category_0'] = test_a['category_0'].astype('int64')\n",
    "test_a['category_1'] = test_a['category_1'].astype('int64')\n",
    "test_a['category_2'] = test_a['category_2'].astype('int64')\n",
    "# test_a['property_0'] = test_a['property_0'].astype('int64')\n",
    "# test_a['property_1'] = test_a['property_1'].astype('int64')\n",
    "# test_a['property_2'] = test_a['property_2'].astype('int64')"
   ]
  },
  {
   "cell_type": "code",
   "execution_count": 23,
   "metadata": {},
   "outputs": [
    {
     "data": {
      "text/plain": [
       "Index(['item_id', 'item_price_level', 'item_sales_level',\n",
       "       'item_collected_level', 'item_pv_level', 'user_id', 'user_gender_id',\n",
       "       'user_age_level', 'user_occupation_id', 'user_star_level',\n",
       "       'context_page_id', 'shop_review_num_level', 'shop_star_level',\n",
       "       'hour_num', 'item_click', 'shop_score_service_num',\n",
       "       'shop_score_description_num', 'shop_review_positive_rate_num',\n",
       "       'shop_score_delivery_num', 'user_click', 'property_0_click',\n",
       "       'property_1_click', 'shop_click', 'brand_click', 'category_1_pvnum',\n",
       "       'category_1_first', 'category_1_last', 'property_0_pvnum',\n",
       "       'property_0_first', 'property_0_last', 'property_1_pvnum',\n",
       "       'property_1_first', 'property_1_last', 'item_id_pvnum', 'item_id_first',\n",
       "       'item_id_last', 'occupation_click', 'user_gender_click', 'day_click',\n",
       "       'category_1', 'category_2', 'day', 'halfhour'],\n",
       "      dtype='object')"
      ]
     },
     "execution_count": 23,
     "metadata": {},
     "output_type": "execute_result"
    }
   ],
   "source": [
    "train.columns"
   ]
  },
  {
   "cell_type": "code",
   "execution_count": 24,
   "metadata": {
    "collapsed": true
   },
   "outputs": [],
   "source": [
    "# def changeNaN(x):\n",
    "#     if x==-1:\n",
    "#         return float(\"nan\") \n",
    "#     else:\n",
    "#         return x"
   ]
  },
  {
   "cell_type": "code",
   "execution_count": 25,
   "metadata": {
    "collapsed": true,
    "scrolled": true
   },
   "outputs": [],
   "source": [
    "# train['item_price_level'] = train['item_price_level'].apply(changeNaN)\n",
    "# train['item_sales_level'] = train['item_sales_level'].apply(changeNaN)\n",
    "# train['item_collected_level'] = train['item_collected_level'].apply(changeNaN)\n",
    "# train['item_pv_level'] = train['item_pv_level'].apply(changeNaN)\n",
    "# train['user_gender_id'] = train['user_gender_id'].apply(changeNaN)\n",
    "# train['user_age_level'] = train['user_age_level'].apply(changeNaN)\n",
    "# train['user_occupation_id'] = train['user_occupation_id'].apply(changeNaN)\n",
    "# train['shop_review_num_level'] = train['shop_review_num_level'].apply(changeNaN)\n",
    "# train['shop_star_level'] = train['shop_star_level'].apply(changeNaN)\n",
    "# pass"
   ]
  },
  {
   "cell_type": "code",
   "execution_count": 26,
   "metadata": {
    "collapsed": true
   },
   "outputs": [],
   "source": [
    "# val['item_price_level'] = val['item_price_level'].apply(changeNaN)\n",
    "# val['item_sales_level'] = val['item_sales_level'].apply(changeNaN)\n",
    "# val['item_collected_level'] = val['item_collected_level'].apply(changeNaN)\n",
    "# val['item_pv_level'] = val['item_pv_level'].apply(changeNaN)\n",
    "# val['user_gender_id'] = val['user_gender_id'].apply(changeNaN)\n",
    "# val['user_age_level'] = val['user_age_level'].apply(changeNaN)\n",
    "# val['user_occupation_id'] = val['user_occupation_id'].apply(changeNaN)\n",
    "# val['shop_review_num_level'] = val['shop_review_num_level'].apply(changeNaN)\n",
    "# val['shop_star_level'] = val['shop_star_level'].apply(changeNaN)\n",
    "# pass"
   ]
  },
  {
   "cell_type": "code",
   "execution_count": 27,
   "metadata": {
    "collapsed": true
   },
   "outputs": [],
   "source": [
    "# test_a['item_price_level'] = test_a['item_price_level'].apply(changeNaN)\n",
    "# test_a['item_sales_level'] = test_a['item_sales_level'].apply(changeNaN)\n",
    "# test_a['item_collected_level'] = test_a['item_collected_level'].apply(changeNaN)\n",
    "# test_a['item_pv_level'] = test_a['item_pv_level'].apply(changeNaN)\n",
    "# test_a['user_gender_id'] = test_a['user_gender_id'].apply(changeNaN)\n",
    "# test_a['user_age_level'] = test_a['user_age_level'].apply(changeNaN)\n",
    "# test_a['user_occupation_id'] = test_a['user_occupation_id'].apply(changeNaN)\n",
    "# test_a['shop_review_num_level'] = test_a['shop_review_num_level'].apply(changeNaN)\n",
    "# test_a['shop_star_level'] = test_a['shop_star_level'].apply(changeNaN)\n",
    "# pass"
   ]
  },
  {
   "cell_type": "code",
   "execution_count": 28,
   "metadata": {
    "collapsed": true
   },
   "outputs": [],
   "source": [
    "# train[['item_id','user_gender_id']].groupby('user_gender_id').count()"
   ]
  },
  {
   "cell_type": "code",
   "execution_count": 29,
   "metadata": {
    "collapsed": true,
    "scrolled": true
   },
   "outputs": [],
   "source": [
    "# train.count()"
   ]
  },
  {
   "cell_type": "code",
   "execution_count": 30,
   "metadata": {},
   "outputs": [
    {
     "name": "stdout",
     "output_type": "stream",
     "text": [
      "[1]\tvalid_0's binary_logloss: 0.684326\n",
      "Training until validation scores don't improve for 150 rounds.\n",
      "[2]\tvalid_0's binary_logloss: 0.675604\n",
      "[3]\tvalid_0's binary_logloss: 0.666653\n",
      "[4]\tvalid_0's binary_logloss: 0.657699\n",
      "[5]\tvalid_0's binary_logloss: 0.649528\n",
      "[6]\tvalid_0's binary_logloss: 0.641239\n",
      "[7]\tvalid_0's binary_logloss: 0.633319\n",
      "[8]\tvalid_0's binary_logloss: 0.625751\n",
      "[9]\tvalid_0's binary_logloss: 0.618003\n",
      "[10]\tvalid_0's binary_logloss: 0.612083\n",
      "[11]\tvalid_0's binary_logloss: 0.603614\n",
      "[12]\tvalid_0's binary_logloss: 0.596535\n",
      "[13]\tvalid_0's binary_logloss: 0.5896\n",
      "[14]\tvalid_0's binary_logloss: 0.582817\n",
      "[15]\tvalid_0's binary_logloss: 0.576167\n",
      "[16]\tvalid_0's binary_logloss: 0.570405\n",
      "[17]\tvalid_0's binary_logloss: 0.563979\n",
      "[18]\tvalid_0's binary_logloss: 0.557528\n",
      "[19]\tvalid_0's binary_logloss: 0.551359\n",
      "[20]\tvalid_0's binary_logloss: 0.545272\n",
      "[21]\tvalid_0's binary_logloss: 0.539302\n",
      "[22]\tvalid_0's binary_logloss: 0.533566\n",
      "[23]\tvalid_0's binary_logloss: 0.527816\n",
      "[24]\tvalid_0's binary_logloss: 0.522224\n",
      "[25]\tvalid_0's binary_logloss: 0.516753\n",
      "[26]\tvalid_0's binary_logloss: 0.511288\n",
      "[27]\tvalid_0's binary_logloss: 0.50586\n",
      "[28]\tvalid_0's binary_logloss: 0.500628\n",
      "[29]\tvalid_0's binary_logloss: 0.495475\n",
      "[30]\tvalid_0's binary_logloss: 0.490339\n",
      "[31]\tvalid_0's binary_logloss: 0.485232\n",
      "[32]\tvalid_0's binary_logloss: 0.480324\n",
      "[33]\tvalid_0's binary_logloss: 0.475394\n",
      "[34]\tvalid_0's binary_logloss: 0.47065\n",
      "[35]\tvalid_0's binary_logloss: 0.465932\n",
      "[36]\tvalid_0's binary_logloss: 0.461315\n",
      "[37]\tvalid_0's binary_logloss: 0.456785\n",
      "[38]\tvalid_0's binary_logloss: 0.452429\n",
      "[39]\tvalid_0's binary_logloss: 0.448063\n",
      "[40]\tvalid_0's binary_logloss: 0.443784\n",
      "[41]\tvalid_0's binary_logloss: 0.439529\n",
      "[42]\tvalid_0's binary_logloss: 0.435352\n",
      "[43]\tvalid_0's binary_logloss: 0.431272\n",
      "[44]\tvalid_0's binary_logloss: 0.427255\n",
      "[45]\tvalid_0's binary_logloss: 0.423105\n",
      "[46]\tvalid_0's binary_logloss: 0.419234\n",
      "[47]\tvalid_0's binary_logloss: 0.415416\n",
      "[48]\tvalid_0's binary_logloss: 0.411664\n",
      "[49]\tvalid_0's binary_logloss: 0.40794\n",
      "[50]\tvalid_0's binary_logloss: 0.404288\n",
      "[51]\tvalid_0's binary_logloss: 0.400735\n",
      "[52]\tvalid_0's binary_logloss: 0.397201\n",
      "[53]\tvalid_0's binary_logloss: 0.393718\n",
      "[54]\tvalid_0's binary_logloss: 0.390271\n",
      "[55]\tvalid_0's binary_logloss: 0.38691\n",
      "[56]\tvalid_0's binary_logloss: 0.383582\n",
      "[57]\tvalid_0's binary_logloss: 0.380342\n",
      "[58]\tvalid_0's binary_logloss: 0.377106\n",
      "[59]\tvalid_0's binary_logloss: 0.373944\n",
      "[60]\tvalid_0's binary_logloss: 0.370833\n",
      "[61]\tvalid_0's binary_logloss: 0.367756\n",
      "[62]\tvalid_0's binary_logloss: 0.36475\n",
      "[63]\tvalid_0's binary_logloss: 0.361737\n",
      "[64]\tvalid_0's binary_logloss: 0.358819\n",
      "[65]\tvalid_0's binary_logloss: 0.356136\n",
      "[66]\tvalid_0's binary_logloss: 0.353116\n",
      "[67]\tvalid_0's binary_logloss: 0.350265\n",
      "[68]\tvalid_0's binary_logloss: 0.347527\n",
      "[69]\tvalid_0's binary_logloss: 0.344822\n",
      "[70]\tvalid_0's binary_logloss: 0.342159\n",
      "[71]\tvalid_0's binary_logloss: 0.339541\n",
      "[72]\tvalid_0's binary_logloss: 0.33696\n",
      "[73]\tvalid_0's binary_logloss: 0.33442\n",
      "[74]\tvalid_0's binary_logloss: 0.331917\n",
      "[75]\tvalid_0's binary_logloss: 0.329445\n",
      "[76]\tvalid_0's binary_logloss: 0.327017\n",
      "[77]\tvalid_0's binary_logloss: 0.324616\n",
      "[78]\tvalid_0's binary_logloss: 0.322252\n",
      "[79]\tvalid_0's binary_logloss: 0.31991\n",
      "[80]\tvalid_0's binary_logloss: 0.317622\n",
      "[81]\tvalid_0's binary_logloss: 0.315369\n",
      "[82]\tvalid_0's binary_logloss: 0.31315\n",
      "[83]\tvalid_0's binary_logloss: 0.31094\n",
      "[84]\tvalid_0's binary_logloss: 0.308773\n",
      "[85]\tvalid_0's binary_logloss: 0.306667\n",
      "[86]\tvalid_0's binary_logloss: 0.304581\n",
      "[87]\tvalid_0's binary_logloss: 0.30262\n",
      "[88]\tvalid_0's binary_logloss: 0.300603\n",
      "[89]\tvalid_0's binary_logloss: 0.298639\n",
      "[90]\tvalid_0's binary_logloss: 0.296707\n",
      "[91]\tvalid_0's binary_logloss: 0.294778\n",
      "[92]\tvalid_0's binary_logloss: 0.292867\n",
      "[93]\tvalid_0's binary_logloss: 0.290992\n",
      "[94]\tvalid_0's binary_logloss: 0.289142\n",
      "[95]\tvalid_0's binary_logloss: 0.28731\n",
      "[96]\tvalid_0's binary_logloss: 0.285509\n",
      "[97]\tvalid_0's binary_logloss: 0.283743\n",
      "[98]\tvalid_0's binary_logloss: 0.28198\n",
      "[99]\tvalid_0's binary_logloss: 0.280255\n",
      "[100]\tvalid_0's binary_logloss: 0.278548\n",
      "[101]\tvalid_0's binary_logloss: 0.276857\n",
      "[102]\tvalid_0's binary_logloss: 0.275214\n",
      "[103]\tvalid_0's binary_logloss: 0.27357\n",
      "[104]\tvalid_0's binary_logloss: 0.271974\n",
      "[105]\tvalid_0's binary_logloss: 0.270389\n",
      "[106]\tvalid_0's binary_logloss: 0.268829\n",
      "[107]\tvalid_0's binary_logloss: 0.267297\n",
      "[108]\tvalid_0's binary_logloss: 0.265799\n",
      "[109]\tvalid_0's binary_logloss: 0.264324\n",
      "[110]\tvalid_0's binary_logloss: 0.262871\n",
      "[111]\tvalid_0's binary_logloss: 0.261433\n",
      "[112]\tvalid_0's binary_logloss: 0.260017\n",
      "[113]\tvalid_0's binary_logloss: 0.258627\n",
      "[114]\tvalid_0's binary_logloss: 0.257238\n",
      "[115]\tvalid_0's binary_logloss: 0.25588\n",
      "[116]\tvalid_0's binary_logloss: 0.254554\n",
      "[117]\tvalid_0's binary_logloss: 0.253245\n",
      "[118]\tvalid_0's binary_logloss: 0.251984\n",
      "[119]\tvalid_0's binary_logloss: 0.250702\n",
      "[120]\tvalid_0's binary_logloss: 0.24945\n",
      "[121]\tvalid_0's binary_logloss: 0.24822\n",
      "[122]\tvalid_0's binary_logloss: 0.247015\n",
      "[123]\tvalid_0's binary_logloss: 0.245824\n",
      "[124]\tvalid_0's binary_logloss: 0.244643\n",
      "[125]\tvalid_0's binary_logloss: 0.243462\n",
      "[126]\tvalid_0's binary_logloss: 0.242283\n",
      "[127]\tvalid_0's binary_logloss: 0.241151\n",
      "[128]\tvalid_0's binary_logloss: 0.240034\n",
      "[129]\tvalid_0's binary_logloss: 0.238943\n",
      "[130]\tvalid_0's binary_logloss: 0.237872\n",
      "[131]\tvalid_0's binary_logloss: 0.236819\n",
      "[132]\tvalid_0's binary_logloss: 0.235773\n",
      "[133]\tvalid_0's binary_logloss: 0.234745\n",
      "[134]\tvalid_0's binary_logloss: 0.233808\n",
      "[135]\tvalid_0's binary_logloss: 0.232803\n",
      "[136]\tvalid_0's binary_logloss: 0.231831\n",
      "[137]\tvalid_0's binary_logloss: 0.230868\n",
      "[138]\tvalid_0's binary_logloss: 0.229917\n",
      "[139]\tvalid_0's binary_logloss: 0.228968\n",
      "[140]\tvalid_0's binary_logloss: 0.228026\n",
      "[141]\tvalid_0's binary_logloss: 0.227112\n",
      "[142]\tvalid_0's binary_logloss: 0.226224\n",
      "[143]\tvalid_0's binary_logloss: 0.225351\n",
      "[144]\tvalid_0's binary_logloss: 0.224541\n",
      "[145]\tvalid_0's binary_logloss: 0.223693\n",
      "[146]\tvalid_0's binary_logloss: 0.222818\n",
      "[147]\tvalid_0's binary_logloss: 0.222002\n",
      "[148]\tvalid_0's binary_logloss: 0.221183\n",
      "[149]\tvalid_0's binary_logloss: 0.220393\n",
      "[150]\tvalid_0's binary_logloss: 0.219604\n",
      "[151]\tvalid_0's binary_logloss: 0.218773\n",
      "[152]\tvalid_0's binary_logloss: 0.217978\n",
      "[153]\tvalid_0's binary_logloss: 0.217234\n",
      "[154]\tvalid_0's binary_logloss: 0.216503\n",
      "[155]\tvalid_0's binary_logloss: 0.215778\n",
      "[156]\tvalid_0's binary_logloss: 0.215059\n",
      "[157]\tvalid_0's binary_logloss: 0.21436\n",
      "[158]\tvalid_0's binary_logloss: 0.213664\n",
      "[159]\tvalid_0's binary_logloss: 0.212995\n",
      "[160]\tvalid_0's binary_logloss: 0.212333\n",
      "[161]\tvalid_0's binary_logloss: 0.211682\n",
      "[162]\tvalid_0's binary_logloss: 0.21104\n",
      "[163]\tvalid_0's binary_logloss: 0.210424\n",
      "[164]\tvalid_0's binary_logloss: 0.209795\n",
      "[165]\tvalid_0's binary_logloss: 0.209183\n",
      "[166]\tvalid_0's binary_logloss: 0.208587\n",
      "[167]\tvalid_0's binary_logloss: 0.207993\n",
      "[168]\tvalid_0's binary_logloss: 0.207422\n",
      "[169]\tvalid_0's binary_logloss: 0.206898\n",
      "[170]\tvalid_0's binary_logloss: 0.206339\n",
      "[171]\tvalid_0's binary_logloss: 0.205791\n",
      "[172]\tvalid_0's binary_logloss: 0.205244\n",
      "[173]\tvalid_0's binary_logloss: 0.204713\n",
      "[174]\tvalid_0's binary_logloss: 0.204188\n",
      "[175]\tvalid_0's binary_logloss: 0.20368\n",
      "[176]\tvalid_0's binary_logloss: 0.203177\n",
      "[177]\tvalid_0's binary_logloss: 0.20268\n",
      "[178]\tvalid_0's binary_logloss: 0.202197\n",
      "[179]\tvalid_0's binary_logloss: 0.201722\n",
      "[180]\tvalid_0's binary_logloss: 0.201256\n",
      "[181]\tvalid_0's binary_logloss: 0.200781\n",
      "[182]\tvalid_0's binary_logloss: 0.200331\n",
      "[183]\tvalid_0's binary_logloss: 0.199883\n",
      "[184]\tvalid_0's binary_logloss: 0.199452\n",
      "[185]\tvalid_0's binary_logloss: 0.199029\n",
      "[186]\tvalid_0's binary_logloss: 0.198611\n",
      "[187]\tvalid_0's binary_logloss: 0.198202\n",
      "[188]\tvalid_0's binary_logloss: 0.1978\n",
      "[189]\tvalid_0's binary_logloss: 0.197411\n",
      "[190]\tvalid_0's binary_logloss: 0.197028\n",
      "[191]\tvalid_0's binary_logloss: 0.196647\n",
      "[192]\tvalid_0's binary_logloss: 0.196272\n",
      "[193]\tvalid_0's binary_logloss: 0.195912\n",
      "[194]\tvalid_0's binary_logloss: 0.195534\n",
      "[195]\tvalid_0's binary_logloss: 0.195175\n",
      "[196]\tvalid_0's binary_logloss: 0.194827\n",
      "[197]\tvalid_0's binary_logloss: 0.194482\n",
      "[198]\tvalid_0's binary_logloss: 0.19415\n",
      "[199]\tvalid_0's binary_logloss: 0.193822\n",
      "[200]\tvalid_0's binary_logloss: 0.193506\n",
      "[201]\tvalid_0's binary_logloss: 0.193197\n",
      "[202]\tvalid_0's binary_logloss: 0.192894\n"
     ]
    },
    {
     "name": "stdout",
     "output_type": "stream",
     "text": [
      "[203]\tvalid_0's binary_logloss: 0.192596\n",
      "[204]\tvalid_0's binary_logloss: 0.192305\n",
      "[205]\tvalid_0's binary_logloss: 0.192016\n",
      "[206]\tvalid_0's binary_logloss: 0.19174\n",
      "[207]\tvalid_0's binary_logloss: 0.191465\n",
      "[208]\tvalid_0's binary_logloss: 0.191203\n",
      "[209]\tvalid_0's binary_logloss: 0.190947\n",
      "[210]\tvalid_0's binary_logloss: 0.190683\n",
      "[211]\tvalid_0's binary_logloss: 0.190436\n",
      "[212]\tvalid_0's binary_logloss: 0.190193\n",
      "[213]\tvalid_0's binary_logloss: 0.18996\n",
      "[214]\tvalid_0's binary_logloss: 0.189722\n",
      "[215]\tvalid_0's binary_logloss: 0.189493\n",
      "[216]\tvalid_0's binary_logloss: 0.189268\n",
      "[217]\tvalid_0's binary_logloss: 0.189044\n",
      "[218]\tvalid_0's binary_logloss: 0.188844\n",
      "[219]\tvalid_0's binary_logloss: 0.188636\n",
      "[220]\tvalid_0's binary_logloss: 0.18843\n",
      "[221]\tvalid_0's binary_logloss: 0.188234\n",
      "[222]\tvalid_0's binary_logloss: 0.188036\n",
      "[223]\tvalid_0's binary_logloss: 0.187852\n",
      "[224]\tvalid_0's binary_logloss: 0.187667\n",
      "[225]\tvalid_0's binary_logloss: 0.187484\n",
      "[226]\tvalid_0's binary_logloss: 0.187299\n",
      "[227]\tvalid_0's binary_logloss: 0.187138\n",
      "[228]\tvalid_0's binary_logloss: 0.186972\n",
      "[229]\tvalid_0's binary_logloss: 0.186807\n",
      "[230]\tvalid_0's binary_logloss: 0.186657\n",
      "[231]\tvalid_0's binary_logloss: 0.186504\n",
      "[232]\tvalid_0's binary_logloss: 0.186355\n",
      "[233]\tvalid_0's binary_logloss: 0.186209\n",
      "[234]\tvalid_0's binary_logloss: 0.186067\n",
      "[235]\tvalid_0's binary_logloss: 0.185933\n",
      "[236]\tvalid_0's binary_logloss: 0.185803\n",
      "[237]\tvalid_0's binary_logloss: 0.185683\n",
      "[238]\tvalid_0's binary_logloss: 0.185569\n",
      "[239]\tvalid_0's binary_logloss: 0.185446\n",
      "[240]\tvalid_0's binary_logloss: 0.185328\n",
      "[241]\tvalid_0's binary_logloss: 0.185217\n",
      "[242]\tvalid_0's binary_logloss: 0.185108\n",
      "[243]\tvalid_0's binary_logloss: 0.185012\n",
      "[244]\tvalid_0's binary_logloss: 0.184912\n",
      "[245]\tvalid_0's binary_logloss: 0.184814\n",
      "[246]\tvalid_0's binary_logloss: 0.184731\n",
      "[247]\tvalid_0's binary_logloss: 0.184642\n",
      "[248]\tvalid_0's binary_logloss: 0.184559\n",
      "[249]\tvalid_0's binary_logloss: 0.18449\n",
      "[250]\tvalid_0's binary_logloss: 0.184408\n",
      "[251]\tvalid_0's binary_logloss: 0.184336\n",
      "[252]\tvalid_0's binary_logloss: 0.184271\n",
      "[253]\tvalid_0's binary_logloss: 0.184197\n",
      "[254]\tvalid_0's binary_logloss: 0.184144\n",
      "[255]\tvalid_0's binary_logloss: 0.184112\n",
      "[256]\tvalid_0's binary_logloss: 0.184057\n",
      "[257]\tvalid_0's binary_logloss: 0.183995\n",
      "[258]\tvalid_0's binary_logloss: 0.183945\n",
      "[259]\tvalid_0's binary_logloss: 0.183896\n",
      "[260]\tvalid_0's binary_logloss: 0.183852\n",
      "[261]\tvalid_0's binary_logloss: 0.183807\n",
      "[262]\tvalid_0's binary_logloss: 0.183768\n",
      "[263]\tvalid_0's binary_logloss: 0.183736\n",
      "[264]\tvalid_0's binary_logloss: 0.183695\n",
      "[265]\tvalid_0's binary_logloss: 0.183655\n",
      "[266]\tvalid_0's binary_logloss: 0.183634\n",
      "[267]\tvalid_0's binary_logloss: 0.183622\n",
      "[268]\tvalid_0's binary_logloss: 0.183592\n",
      "[269]\tvalid_0's binary_logloss: 0.183561\n",
      "[270]\tvalid_0's binary_logloss: 0.183546\n",
      "[271]\tvalid_0's binary_logloss: 0.183518\n",
      "[272]\tvalid_0's binary_logloss: 0.183499\n",
      "[273]\tvalid_0's binary_logloss: 0.1835\n",
      "[274]\tvalid_0's binary_logloss: 0.183487\n",
      "[275]\tvalid_0's binary_logloss: 0.183487\n",
      "[276]\tvalid_0's binary_logloss: 0.18348\n",
      "[277]\tvalid_0's binary_logloss: 0.183472\n",
      "[278]\tvalid_0's binary_logloss: 0.18348\n",
      "[279]\tvalid_0's binary_logloss: 0.183475\n",
      "[280]\tvalid_0's binary_logloss: 0.183466\n",
      "[281]\tvalid_0's binary_logloss: 0.183472\n",
      "[282]\tvalid_0's binary_logloss: 0.183467\n",
      "[283]\tvalid_0's binary_logloss: 0.183484\n",
      "[284]\tvalid_0's binary_logloss: 0.183496\n",
      "[285]\tvalid_0's binary_logloss: 0.183518\n",
      "[286]\tvalid_0's binary_logloss: 0.183527\n",
      "[287]\tvalid_0's binary_logloss: 0.18353\n",
      "[288]\tvalid_0's binary_logloss: 0.183554\n",
      "[289]\tvalid_0's binary_logloss: 0.183562\n",
      "[290]\tvalid_0's binary_logloss: 0.183569\n",
      "[291]\tvalid_0's binary_logloss: 0.183578\n",
      "[292]\tvalid_0's binary_logloss: 0.183606\n",
      "[293]\tvalid_0's binary_logloss: 0.183643\n",
      "[294]\tvalid_0's binary_logloss: 0.183664\n",
      "[295]\tvalid_0's binary_logloss: 0.183683\n",
      "[296]\tvalid_0's binary_logloss: 0.183717\n",
      "[297]\tvalid_0's binary_logloss: 0.18374\n",
      "[298]\tvalid_0's binary_logloss: 0.183785\n",
      "[299]\tvalid_0's binary_logloss: 0.183811\n",
      "[300]\tvalid_0's binary_logloss: 0.183844\n",
      "[301]\tvalid_0's binary_logloss: 0.183889\n",
      "[302]\tvalid_0's binary_logloss: 0.183936\n",
      "[303]\tvalid_0's binary_logloss: 0.18399\n",
      "[304]\tvalid_0's binary_logloss: 0.184063\n",
      "[305]\tvalid_0's binary_logloss: 0.184096\n",
      "[306]\tvalid_0's binary_logloss: 0.184126\n",
      "[307]\tvalid_0's binary_logloss: 0.184162\n",
      "[308]\tvalid_0's binary_logloss: 0.1842\n",
      "[309]\tvalid_0's binary_logloss: 0.184237\n",
      "[310]\tvalid_0's binary_logloss: 0.184283\n",
      "[311]\tvalid_0's binary_logloss: 0.184316\n",
      "[312]\tvalid_0's binary_logloss: 0.184373\n",
      "[313]\tvalid_0's binary_logloss: 0.184417\n",
      "[314]\tvalid_0's binary_logloss: 0.184483\n",
      "[315]\tvalid_0's binary_logloss: 0.18453\n",
      "[316]\tvalid_0's binary_logloss: 0.184597\n",
      "[317]\tvalid_0's binary_logloss: 0.184636\n",
      "[318]\tvalid_0's binary_logloss: 0.184712\n",
      "[319]\tvalid_0's binary_logloss: 0.184764\n",
      "[320]\tvalid_0's binary_logloss: 0.184806\n",
      "[321]\tvalid_0's binary_logloss: 0.184861\n",
      "[322]\tvalid_0's binary_logloss: 0.184901\n",
      "[323]\tvalid_0's binary_logloss: 0.184968\n",
      "[324]\tvalid_0's binary_logloss: 0.185071\n",
      "[325]\tvalid_0's binary_logloss: 0.185129\n",
      "[326]\tvalid_0's binary_logloss: 0.185202\n",
      "[327]\tvalid_0's binary_logloss: 0.185296\n",
      "[328]\tvalid_0's binary_logloss: 0.185379\n",
      "[329]\tvalid_0's binary_logloss: 0.18543\n",
      "[330]\tvalid_0's binary_logloss: 0.185485\n",
      "[331]\tvalid_0's binary_logloss: 0.185559\n",
      "[332]\tvalid_0's binary_logloss: 0.18563\n",
      "[333]\tvalid_0's binary_logloss: 0.185708\n",
      "[334]\tvalid_0's binary_logloss: 0.185764\n",
      "[335]\tvalid_0's binary_logloss: 0.18584\n",
      "[336]\tvalid_0's binary_logloss: 0.185922\n",
      "[337]\tvalid_0's binary_logloss: 0.186036\n",
      "[338]\tvalid_0's binary_logloss: 0.186095\n",
      "[339]\tvalid_0's binary_logloss: 0.186177\n",
      "[340]\tvalid_0's binary_logloss: 0.186248\n",
      "[341]\tvalid_0's binary_logloss: 0.186338\n",
      "[342]\tvalid_0's binary_logloss: 0.18642\n",
      "[343]\tvalid_0's binary_logloss: 0.186503\n",
      "[344]\tvalid_0's binary_logloss: 0.18657\n",
      "[345]\tvalid_0's binary_logloss: 0.186662\n",
      "[346]\tvalid_0's binary_logloss: 0.186785\n",
      "[347]\tvalid_0's binary_logloss: 0.186849\n",
      "[348]\tvalid_0's binary_logloss: 0.186917\n",
      "[349]\tvalid_0's binary_logloss: 0.187006\n",
      "[350]\tvalid_0's binary_logloss: 0.187104\n",
      "[351]\tvalid_0's binary_logloss: 0.18718\n",
      "[352]\tvalid_0's binary_logloss: 0.187269\n",
      "[353]\tvalid_0's binary_logloss: 0.187405\n",
      "[354]\tvalid_0's binary_logloss: 0.187534\n",
      "[355]\tvalid_0's binary_logloss: 0.187607\n",
      "[356]\tvalid_0's binary_logloss: 0.187701\n",
      "[357]\tvalid_0's binary_logloss: 0.187796\n",
      "[358]\tvalid_0's binary_logloss: 0.187871\n",
      "[359]\tvalid_0's binary_logloss: 0.187959\n",
      "[360]\tvalid_0's binary_logloss: 0.188027\n",
      "[361]\tvalid_0's binary_logloss: 0.188128\n",
      "[362]\tvalid_0's binary_logloss: 0.188208\n",
      "[363]\tvalid_0's binary_logloss: 0.188338\n",
      "[364]\tvalid_0's binary_logloss: 0.188433\n",
      "[365]\tvalid_0's binary_logloss: 0.188539\n",
      "[366]\tvalid_0's binary_logloss: 0.188613\n",
      "[367]\tvalid_0's binary_logloss: 0.188723\n",
      "[368]\tvalid_0's binary_logloss: 0.188812\n",
      "[369]\tvalid_0's binary_logloss: 0.188882\n",
      "[370]\tvalid_0's binary_logloss: 0.188981\n",
      "[371]\tvalid_0's binary_logloss: 0.189073\n",
      "[372]\tvalid_0's binary_logloss: 0.189154\n",
      "[373]\tvalid_0's binary_logloss: 0.189223\n",
      "[374]\tvalid_0's binary_logloss: 0.189323\n",
      "[375]\tvalid_0's binary_logloss: 0.18944\n",
      "[376]\tvalid_0's binary_logloss: 0.189586\n",
      "[377]\tvalid_0's binary_logloss: 0.189677\n",
      "[378]\tvalid_0's binary_logloss: 0.189783\n",
      "[379]\tvalid_0's binary_logloss: 0.189895\n",
      "[380]\tvalid_0's binary_logloss: 0.189965\n",
      "[381]\tvalid_0's binary_logloss: 0.190068\n",
      "[382]\tvalid_0's binary_logloss: 0.190152\n",
      "[383]\tvalid_0's binary_logloss: 0.190228\n",
      "[384]\tvalid_0's binary_logloss: 0.190332\n",
      "[385]\tvalid_0's binary_logloss: 0.190487\n",
      "[386]\tvalid_0's binary_logloss: 0.190606\n",
      "[387]\tvalid_0's binary_logloss: 0.190717\n",
      "[388]\tvalid_0's binary_logloss: 0.190779\n",
      "[389]\tvalid_0's binary_logloss: 0.190857\n",
      "[390]\tvalid_0's binary_logloss: 0.19094\n",
      "[391]\tvalid_0's binary_logloss: 0.191028\n",
      "[392]\tvalid_0's binary_logloss: 0.191124\n",
      "[393]\tvalid_0's binary_logloss: 0.191193\n",
      "[394]\tvalid_0's binary_logloss: 0.191282\n",
      "[395]\tvalid_0's binary_logloss: 0.191365\n",
      "[396]\tvalid_0's binary_logloss: 0.191463\n",
      "[397]\tvalid_0's binary_logloss: 0.191566\n",
      "[398]\tvalid_0's binary_logloss: 0.19172\n",
      "[399]\tvalid_0's binary_logloss: 0.191879\n",
      "[400]\tvalid_0's binary_logloss: 0.191962\n",
      "[401]\tvalid_0's binary_logloss: 0.192051\n",
      "[402]\tvalid_0's binary_logloss: 0.192188\n",
      "[403]\tvalid_0's binary_logloss: 0.192278\n"
     ]
    },
    {
     "name": "stdout",
     "output_type": "stream",
     "text": [
      "[404]\tvalid_0's binary_logloss: 0.192387\n",
      "[405]\tvalid_0's binary_logloss: 0.192509\n",
      "[406]\tvalid_0's binary_logloss: 0.19262\n",
      "[407]\tvalid_0's binary_logloss: 0.192784\n",
      "[408]\tvalid_0's binary_logloss: 0.19289\n",
      "[409]\tvalid_0's binary_logloss: 0.193003\n",
      "[410]\tvalid_0's binary_logloss: 0.193066\n",
      "[411]\tvalid_0's binary_logloss: 0.193145\n",
      "[412]\tvalid_0's binary_logloss: 0.193294\n",
      "[413]\tvalid_0's binary_logloss: 0.193386\n",
      "[414]\tvalid_0's binary_logloss: 0.193455\n",
      "[415]\tvalid_0's binary_logloss: 0.193574\n",
      "[416]\tvalid_0's binary_logloss: 0.19366\n",
      "[417]\tvalid_0's binary_logloss: 0.193786\n",
      "[418]\tvalid_0's binary_logloss: 0.193887\n",
      "[419]\tvalid_0's binary_logloss: 0.193982\n",
      "[420]\tvalid_0's binary_logloss: 0.194117\n",
      "[421]\tvalid_0's binary_logloss: 0.194196\n",
      "[422]\tvalid_0's binary_logloss: 0.194293\n",
      "[423]\tvalid_0's binary_logloss: 0.194405\n",
      "[424]\tvalid_0's binary_logloss: 0.194525\n",
      "[425]\tvalid_0's binary_logloss: 0.194596\n",
      "[426]\tvalid_0's binary_logloss: 0.194637\n",
      "[427]\tvalid_0's binary_logloss: 0.194733\n",
      "[428]\tvalid_0's binary_logloss: 0.194814\n",
      "[429]\tvalid_0's binary_logloss: 0.194881\n",
      "[430]\tvalid_0's binary_logloss: 0.194995\n",
      "Early stopping, best iteration is:\n",
      "[280]\tvalid_0's binary_logloss: 0.183466\n"
     ]
    },
    {
     "data": {
      "text/plain": [
       "LGBMRegressor(boosting_type='gbdt', class_weight=None, colsample_bytree=0.65,\n",
       "       device='gpu', gpu_device_id=0, gpu_platform_id=0,\n",
       "       learning_rate=0.01, max_depth=-1, min_child_samples=20,\n",
       "       min_child_weight=0.001, min_split_gain=0.0, n_estimators=2000,\n",
       "       n_jobs=-1, num_leaves=128, objective='binary', random_state=None,\n",
       "       reg_alpha=1, reg_lambda=0.0, silent=True, subsample=0.7,\n",
       "       subsample_for_bin=200000, subsample_freq=1)"
      ]
     },
     "execution_count": 30,
     "metadata": {},
     "output_type": "execute_result"
    }
   ],
   "source": [
    "\n",
    "import lightgbm as lgb\n",
    "gbm = lgb.LGBMRegressor(objective='binary',\n",
    "                        num_leaves = 128,\n",
    "#                         max_depth = 8,\n",
    "                        device = \"gpu\",\n",
    "                        gpu_platform_id = 0,\n",
    "                        gpu_device_id = 0,\n",
    "                        learning_rate=0.01,\n",
    "                        n_estimators=2000,\n",
    "                        colsample_bytree = 0.65,\n",
    "                        subsample = 0.7,\n",
    "                        reg_alpha = 1,\n",
    "                       )\n",
    "gbm.fit(train, y_train,\n",
    "        categorical_feature  = [ \"category_1\", \"category_2\"],\n",
    "        eval_set=[(val, y_val)],\n",
    "        eval_metric='binary_logloss',\n",
    "        early_stopping_rounds=150)\n",
    "\n"
   ]
  },
  {
   "cell_type": "code",
   "execution_count": 31,
   "metadata": {
    "scrolled": true
   },
   "outputs": [
    {
     "name": "stdout",
     "output_type": "stream",
     "text": [
      "Start predicting...\n",
      "0.0734206514259\n"
     ]
    }
   ],
   "source": [
    "print('Start predicting...')\n",
    "# predict\n",
    "# y_pred_1 = gbm.predict(val, num_iteration=gbm.best_iteration_ )\n",
    "y_sub_1 = gbm.predict(test_a, num_iteration=gbm.best_iteration_ )\n",
    "print(log_loss(y_train,gbm.predict(train)))\n",
    "# print(log_loss(y_val,y_pred_1))\n",
    "\n",
    "# print(log_loss(y_val,(y_pred_1 + proba_val)/2))#0.0802392979662"
   ]
  },
  {
   "cell_type": "code",
   "execution_count": 33,
   "metadata": {
    "collapsed": true
   },
   "outputs": [],
   "source": [
    "\n",
    "# import numpy as np\n",
    "# bes = 1\n",
    "# for i in np.arange(0,1,0.01):\n",
    "#     if(log_loss(y_val,(i * y_pred_1 + (1-i) * proba_val)) < bes):\n",
    "#         bes = log_loss(y_val,(y_pred_1 + proba_val)/2)\n",
    "# print(bes)#0.083131236937\n",
    "\n",
    "# xx_analyse = pd.DataFrame()\n",
    "# xx_analyse['ture'] = list(y_val)\n",
    "# xx_analyse['pre'] = list(proba_val)\n",
    "# xx_analyse['pre_1'] = list(y_pred_1)\n",
    "# xx_analyse.to_csv('temp.csv',index=False)\n",
    "#\n",
    "# sub = pd.DataFrame()\n",
    "# sub['instance_id'] = list(test_index)\n",
    "# sub['predicted_score'] = list(y_sub_1)\n",
    "# sub.to_csv('feather/20180327.txt',sep=\" \",index=False)"
   ]
  },
  {
   "cell_type": "code",
   "execution_count": 34,
   "metadata": {},
   "outputs": [
    {
     "data": {
      "text/plain": [
       "(519888,)"
      ]
     },
     "execution_count": 34,
     "metadata": {},
     "output_type": "execute_result"
    }
   ],
   "source": [
    "y_sub_1.shape"
   ]
  },
  {
   "cell_type": "code",
   "execution_count": 35,
   "metadata": {},
   "outputs": [
    {
     "data": {
      "text/plain": [
       "array([ 0.03500097,  0.0337831 ,  0.04590906, ...,  0.03276625,\n",
       "        0.05857461,  0.04220761])"
      ]
     },
     "execution_count": 35,
     "metadata": {},
     "output_type": "execute_result"
    }
   ],
   "source": [
    "y_sub_1"
   ]
  },
  {
   "cell_type": "code",
   "execution_count": 36,
   "metadata": {
    "collapsed": true
   },
   "outputs": [],
   "source": [
    "sub = pd.DataFrame()\n",
    "sub['instance_id'] = list(test_index)\n",
    "sub['predicted_score'] = list(y_sub_1)\n",
    "sub.to_csv('20180430.txt',sep=\" \",index=False)"
   ]
  },
  {
   "cell_type": "code",
   "execution_count": null,
   "metadata": {
    "collapsed": true
   },
   "outputs": [],
   "source": []
  },
  {
   "cell_type": "code",
   "execution_count": null,
   "metadata": {
    "collapsed": true
   },
   "outputs": [],
   "source": []
  },
  {
   "cell_type": "code",
   "execution_count": null,
   "metadata": {
    "collapsed": true
   },
   "outputs": [],
   "source": []
  }
 ],
 "metadata": {
  "kernelspec": {
   "display_name": "Python 3",
   "language": "python",
   "name": "python3"
  },
  "language_info": {
   "codemirror_mode": {
    "name": "ipython",
    "version": 3
   },
   "file_extension": ".py",
   "mimetype": "text/x-python",
   "name": "python",
   "nbconvert_exporter": "python",
   "pygments_lexer": "ipython3",
   "version": "3.6.3"
  }
 },
 "nbformat": 4,
 "nbformat_minor": 2
}
