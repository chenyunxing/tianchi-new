{
 "cells": [
  {
   "cell_type": "code",
   "execution_count": 1,
   "metadata": {
    "collapsed": true
   },
   "outputs": [],
   "source": [
    "import pandas as pd\n",
    "import numpy as np\n",
    "import seaborn as sns\n",
    "import matplotlib.pyplot as plt\n",
    "%matplotlib inline\n",
    "from scipy import stats\n",
    "from scipy.stats import norm, skew #加载一些统计的库\n",
    "import time\n",
    "import gc"
   ]
  },
  {
   "cell_type": "code",
   "execution_count": 2,
   "metadata": {
    "collapsed": true
   },
   "outputs": [],
   "source": [
    "def time2cov(time_):\n",
    "    '''\n",
    "    时间是根据天数推移，所以日期为脱敏，但是时间本身不脱敏\n",
    "    :param time_: \n",
    "    :return: \n",
    "    '''\n",
    "    return time.strftime(\"%Y-%m-%d %H:%M:%S\",time.localtime(time_))"
   ]
  },
  {
   "cell_type": "code",
   "execution_count": 3,
   "metadata": {
    "collapsed": true
   },
   "outputs": [],
   "source": [
    "def pre_process(data):\n",
    "    '''\n",
    "    :param data: \n",
    "    :return: \n",
    "    '''\n",
    "\n",
    "    print('item_category_list_ing')\n",
    "    for i in range(3):\n",
    "        data['category_%d'%(i)] = data['item_category_list'].apply(\n",
    "            lambda x:x.split(\";\")[i] if len(x.split(\";\")) > i else \" \"\n",
    "        )\n",
    "    del data['item_category_list']\n",
    "\n",
    "    print('item_property_list_ing')\n",
    "    for i in range(3):\n",
    "        data['property_%d'%(i)] = data['item_property_list'].apply(\n",
    "            lambda x:x.split(\";\")[i] if len(x.split(\";\")) > i else \" \"\n",
    "        )\n",
    "    del data['item_property_list']\n",
    "    \n",
    "    print('context_timestamp_ing')\n",
    "    data['context_timestamp'] = data['context_timestamp'].apply(time2cov)\n",
    "    \n",
    "    return data"
   ]
  },
  {
   "cell_type": "code",
   "execution_count": 4,
   "metadata": {
    "collapsed": true
   },
   "outputs": [],
   "source": [
    "def pv(day):\n",
    "    print(day)\n",
    "    print(time.strftime('%Y-%m-%d %H:%M:%S',time.localtime(time.time())))\n",
    "    data = pd.read_table(day + '.txt',sep=' ',index_col=False)\n",
    "    data = pre_process(data)\n",
    "    data = data.sort_values('context_timestamp')\n",
    "    datatemp = []\n",
    "    data['category_1_first']=0\n",
    "    data['category_1_last']=0\n",
    "    for name,num in data[['user_id','category_1','instance_id','context_timestamp','category_1_first','category_1_last']].groupby(['user_id','category_1']):\n",
    "        num = num.reset_index().set_index(['index']).sort_values('context_timestamp')\n",
    "        num =num.reset_index() \n",
    "        num =num.reset_index()\n",
    "        temp = np.array(num.copy()).reshape(-1,8).tolist()\n",
    "        temp[0][-2]=1\n",
    "        temp[-1][-1]=1\n",
    "        datatemp.extend(temp)\n",
    "    #     print(np.array(num.copy()).reshape(-1,6))\n",
    "#     print(datatemp.shape)\n",
    "    print(time.strftime('%Y-%m-%d %H:%M:%S',time.localtime(time.time())))\n",
    "    datatemp = pd.DataFrame(datatemp,columns=['category_1_pvnum','index','user_id','category_1','instance_id','context_timestamp','category_1_first','category_1_last'])\n",
    "    datatemp[['instance_id','category_1_pvnum','category_1_first','category_1_last']].to_csv(day + '_user_clickpv.csv',index=False )\n",
    "    del(datatemp)\n",
    "    gc.collect()\n",
    "    \n",
    "    datatemp = []\n",
    "    data['property_0_first']=0\n",
    "    data['property_0_last']=0\n",
    "    for name,num in data[['user_id','property_0','instance_id','context_timestamp','property_0_first','property_0_last']].groupby(['user_id','property_0']):\n",
    "        num = num.reset_index().set_index(['index']).sort_values('context_timestamp')\n",
    "        num =num.reset_index() \n",
    "        num =num.reset_index()\n",
    "        temp = np.array(num.copy()).reshape(-1,8).tolist()\n",
    "        temp[0][-2]=1\n",
    "        temp[-1][-1]=1\n",
    "        datatemp.extend(temp)\n",
    "    #     print(np.array(num.copy()).reshape(-1,6))\n",
    "#     print(datatemp.shape)\n",
    "    print(time.strftime('%Y-%m-%d %H:%M:%S',time.localtime(time.time())))\n",
    "    datatemp = pd.DataFrame(datatemp,columns=['property_0_pvnum','index','user_id','property_0','instance_id','context_timestamp','property_0_first','property_0_last'])\n",
    "    datatemp[['instance_id','property_0_pvnum','property_0_first','property_0_last']].to_csv(day + '_property_0_pvnum.csv',index=False )\n",
    "    del(datatemp)\n",
    "    gc.collect()\n",
    "    \n",
    "    datatemp = []\n",
    "    data['property_1_first']=0\n",
    "    data['property_1_last']=0\n",
    "    for name,num in data[['user_id','property_1','instance_id','context_timestamp','property_1_first','property_1_last']].groupby(['user_id','property_1']):\n",
    "        num = num.reset_index().set_index(['index']).sort_values('context_timestamp')\n",
    "        num =num.reset_index() \n",
    "        num =num.reset_index()\n",
    "        temp = np.array(num.copy()).reshape(-1,8).tolist()\n",
    "        temp[0][-2]=1\n",
    "        temp[-1][-1]=1\n",
    "        datatemp.extend(temp)\n",
    "    #     print(np.array(num.copy()).reshape(-1,6))\n",
    "#     print(datatemp.shape)\n",
    "    print(time.strftime('%Y-%m-%d %H:%M:%S',time.localtime(time.time())))\n",
    "    datatemp = pd.DataFrame(datatemp,columns=['property_1_pvnum','index','user_id','property_1','instance_id','context_timestamp','property_1_first','property_1_last'])\n",
    "    datatemp[['instance_id','property_1_pvnum','property_1_first','property_1_last']].to_csv(day + '_property_1_pvnum.csv',index=False )\n",
    "    del(datatemp)\n",
    "    gc.collect()\n",
    "    \n",
    "    datatemp = []\n",
    "    data['item_id_first']=0\n",
    "    data['item_id_last']=0\n",
    "    for name,num in data[['user_id','item_id','instance_id','context_timestamp','item_id_first','item_id_last']].groupby(['user_id','item_id']):\n",
    "        num = num.reset_index().set_index(['index']).sort_values('context_timestamp')\n",
    "        num =num.reset_index() \n",
    "        num =num.reset_index()\n",
    "        temp = np.array(num.copy()).reshape(-1,8).tolist()\n",
    "        temp[0][-2]=1\n",
    "        temp[-1][-1]=1\n",
    "        datatemp.extend(temp)\n",
    "    #     print(np.array(num.copy()).reshape(-1,6))\n",
    "#     print(datatemp.shape)\n",
    "    print(time.strftime('%Y-%m-%d %H:%M:%S',time.localtime(time.time())))\n",
    "    datatemp = pd.DataFrame(datatemp,columns=['item_id_pvnum','index','user_id','item_id','instance_id','context_timestamp','item_id_first','item_id_last'])\n",
    "    datatemp[['instance_id','item_id_pvnum','item_id_first','item_id_last']].to_csv(day + '_item_id_pvnum.csv',index=False )\n",
    "    del(datatemp)\n",
    "    gc.collect()\n",
    "    \n",
    "    del(data)\n",
    "    gc.collect()"
   ]
  },
  {
   "cell_type": "code",
   "execution_count": 8,
   "metadata": {
    "collapsed": true
   },
   "outputs": [],
   "source": [
    "# daylist = ['day_1','day_2','day_3','day_4','day_5','day_6','day_31']\n",
    "daylist = ['day_31']"
   ]
  },
  {
   "cell_type": "code",
   "execution_count": 9,
   "metadata": {},
   "outputs": [
    {
     "name": "stdout",
     "output_type": "stream",
     "text": [
      "2018-04-28 22:01:20\n"
     ]
    }
   ],
   "source": [
    "print(time.strftime('%Y-%m-%d %H:%M:%S',time.localtime(time.time())))"
   ]
  },
  {
   "cell_type": "code",
   "execution_count": 10,
   "metadata": {
    "scrolled": true
   },
   "outputs": [
    {
     "name": "stdout",
     "output_type": "stream",
     "text": [
      "day_31\n",
      "2018-04-28 22:01:21\n",
      "item_category_list_ing\n",
      "item_property_list_ing\n",
      "context_timestamp_ing\n",
      "2018-04-28 22:42:59\n",
      "2018-04-28 23:29:35\n",
      "2018-04-29 00:23:39\n",
      "2018-04-29 01:31:43\n"
     ]
    }
   ],
   "source": [
    "for i in daylist:\n",
    "    pv(i)"
   ]
  },
  {
   "cell_type": "code",
   "execution_count": 4,
   "metadata": {
    "scrolled": true
   },
   "outputs": [
    {
     "name": "stdout",
     "output_type": "stream",
     "text": [
      "day_7\n",
      "2018-05-11 04:58:39\n",
      "item_category_list_ing\n",
      "item_property_list_ing\n",
      "context_timestamp_ing\n"
     ]
    }
   ],
   "source": [
    "day = 'day_7'\n",
    "print(day)\n",
    "print(time.strftime('%Y-%m-%d %H:%M:%S',time.localtime(time.time())))\n",
    "data1 = pd.read_table(day + '.txt',sep=' ',index_col=False)\n",
    "data2 = pd.read_table('test.txt',sep=' ',index_col=False)\n",
    "data3 = pd.read_table('test1.txt',sep=' ',index_col=False)\n",
    "data = data1.copy()\n",
    "data.pop('is_trade')\n",
    "data.pop('day')\n",
    "data = data.append(data2.copy())\n",
    "data = data.append(data3.copy())\n",
    "data = pre_process(data)\n",
    "data = data.sort_values('context_timestamp')\n",
    "data1 = data1.pop('instance_id')\n",
    "data2 = data2.pop('instance_id')\n",
    "data3 = data3.pop('instance_id')\n",
    "data1 = pd.DataFrame(data1)\n",
    "data2 = pd.DataFrame(data2)\n",
    "data3 = pd.DataFrame(data3)\n",
    "pass"
   ]
  },
  {
   "cell_type": "code",
   "execution_count": 5,
   "metadata": {},
   "outputs": [
    {
     "data": {
      "text/plain": [
       "(519888, 1)"
      ]
     },
     "execution_count": 5,
     "metadata": {},
     "output_type": "execute_result"
    }
   ],
   "source": [
    "data2.shape"
   ]
  },
  {
   "cell_type": "code",
   "execution_count": 6,
   "metadata": {},
   "outputs": [
    {
     "data": {
      "text/plain": [
       "(1077175, 1)"
      ]
     },
     "execution_count": 6,
     "metadata": {},
     "output_type": "execute_result"
    }
   ],
   "source": [
    "data1.shape"
   ]
  },
  {
   "cell_type": "code",
   "execution_count": 7,
   "metadata": {},
   "outputs": [
    {
     "data": {
      "text/plain": [
       "(1209768, 1)"
      ]
     },
     "execution_count": 7,
     "metadata": {},
     "output_type": "execute_result"
    }
   ],
   "source": [
    "data3.shape"
   ]
  },
  {
   "cell_type": "code",
   "execution_count": 8,
   "metadata": {
    "scrolled": true
   },
   "outputs": [
    {
     "data": {
      "text/plain": [
       "(2806831, 30)"
      ]
     },
     "execution_count": 8,
     "metadata": {},
     "output_type": "execute_result"
    }
   ],
   "source": [
    "data.shape"
   ]
  },
  {
   "cell_type": "code",
   "execution_count": 9,
   "metadata": {
    "scrolled": true
   },
   "outputs": [
    {
     "name": "stdout",
     "output_type": "stream",
     "text": [
      "2018-05-11 06:05:03\n",
      "2018-05-11 07:16:24\n",
      "2018-05-11 08:38:19\n",
      "2018-05-11 10:27:14\n"
     ]
    },
    {
     "data": {
      "text/plain": [
       "21"
      ]
     },
     "execution_count": 9,
     "metadata": {},
     "output_type": "execute_result"
    }
   ],
   "source": [
    "datatemp = []\n",
    "data['category_1_first']=0\n",
    "data['category_1_last']=0\n",
    "for name,num in data[['user_id','category_1','instance_id','context_timestamp','category_1_first','category_1_last']].groupby(['user_id','category_1']):\n",
    "    num = num.reset_index().set_index(['index']).sort_values('context_timestamp')\n",
    "    num =num.reset_index() \n",
    "    num =num.reset_index()\n",
    "    temp = np.array(num.copy()).reshape(-1,8).tolist()\n",
    "    temp[0][-2]=1\n",
    "    temp[-1][-1]=1\n",
    "    datatemp.extend(temp)\n",
    "#     print(np.array(num.copy()).reshape(-1,6))\n",
    "#     print(datatemp.shape)\n",
    "print(time.strftime('%Y-%m-%d %H:%M:%S',time.localtime(time.time())))\n",
    "datatemp = pd.DataFrame(datatemp,columns=['category_1_pvnum','index','user_id','category_1','instance_id','context_timestamp','category_1_first','category_1_last'])\n",
    "userclickdata2 = pd.merge(data2,datatemp,on=['instance_id'],how='left')\n",
    "userclickdata1 = pd.merge(data1,datatemp,on=['instance_id'],how='left')\n",
    "userclickdata3 = pd.merge(data3,datatemp,on=['instance_id'],how='left')\n",
    "userclickdata2[['instance_id','category_1_pvnum','category_1_first','category_1_last']].to_csv('test_user_clickpv.csv',index=False )\n",
    "userclickdata1[['instance_id','category_1_pvnum','category_1_first','category_1_last']].to_csv('day_7_user_clickpv.csv',index=False )\n",
    "userclickdata3[['instance_id','category_1_pvnum','category_1_first','category_1_last']].to_csv('test1_user_clickpv.csv',index=False )\n",
    "del(datatemp)\n",
    "del(userclickdata1)\n",
    "del(userclickdata2)\n",
    "del(userclickdata3)\n",
    "gc.collect()\n",
    "\n",
    "datatemp = []\n",
    "data['property_0_first']=0\n",
    "data['property_0_last']=0\n",
    "for name,num in data[['user_id','property_0','instance_id','context_timestamp','property_0_first','property_0_last']].groupby(['user_id','property_0']):\n",
    "    num = num.reset_index().set_index(['index']).sort_values('context_timestamp')\n",
    "    num =num.reset_index() \n",
    "    num =num.reset_index()\n",
    "    temp = np.array(num.copy()).reshape(-1,8).tolist()\n",
    "    temp[0][-2]=1\n",
    "    temp[-1][-1]=1\n",
    "    datatemp.extend(temp)\n",
    "#     print(np.array(num.copy()).reshape(-1,6))\n",
    "#     print(datatemp.shape)\n",
    "print(time.strftime('%Y-%m-%d %H:%M:%S',time.localtime(time.time())))\n",
    "datatemp = pd.DataFrame(datatemp,columns=['property_0_pvnum','index','user_id','property_0','instance_id','context_timestamp','property_0_first','property_0_last'])\n",
    "userclickdata2 = pd.merge(data2,datatemp,on=['instance_id'],how='left')\n",
    "userclickdata1 = pd.merge(data1,datatemp,on=['instance_id'],how='left')\n",
    "userclickdata3 = pd.merge(data3,datatemp,on=['instance_id'],how='left')\n",
    "userclickdata2[['instance_id','property_0_pvnum','property_0_first','property_0_last']].to_csv('test_property_0_pvnum.csv',index=False )\n",
    "userclickdata1[['instance_id','property_0_pvnum','property_0_first','property_0_last']].to_csv('day_7_property_0_pvnum.csv',index=False )\n",
    "userclickdata3[['instance_id','property_0_pvnum','property_0_first','property_0_last']].to_csv('test1_property_0_pvnum.csv',index=False )\n",
    "del(datatemp)\n",
    "del(userclickdata1)\n",
    "del(userclickdata2)\n",
    "del(userclickdata3)\n",
    "gc.collect()\n",
    "\n",
    "datatemp = []\n",
    "data['property_1_first']=0\n",
    "data['property_1_last']=0\n",
    "for name,num in data[['user_id','property_1','instance_id','context_timestamp','property_1_first','property_1_last']].groupby(['user_id','property_1']):\n",
    "    num = num.reset_index().set_index(['index']).sort_values('context_timestamp')\n",
    "    num =num.reset_index() \n",
    "    num =num.reset_index()\n",
    "    temp = np.array(num.copy()).reshape(-1,8).tolist()\n",
    "    temp[0][-2]=1\n",
    "    temp[-1][-1]=1\n",
    "    datatemp.extend(temp)\n",
    "#     print(np.array(num.copy()).reshape(-1,6))\n",
    "#     print(datatemp.shape)\n",
    "print(time.strftime('%Y-%m-%d %H:%M:%S',time.localtime(time.time())))\n",
    "datatemp = pd.DataFrame(datatemp,columns=['property_1_pvnum','index','user_id','property_1','instance_id','context_timestamp','property_1_first','property_1_last'])\n",
    "userclickdata2 = pd.merge(data2,datatemp,on=['instance_id'],how='left')\n",
    "userclickdata1 = pd.merge(data1,datatemp,on=['instance_id'],how='left')\n",
    "userclickdata3 = pd.merge(data3,datatemp,on=['instance_id'],how='left')\n",
    "userclickdata2[['instance_id','property_1_pvnum','property_1_first','property_1_last']].to_csv('test_property_1_pvnum.csv',index=False )\n",
    "userclickdata1[['instance_id','property_1_pvnum','property_1_first','property_1_last']].to_csv('day_7_property_1_pvnum.csv',index=False )\n",
    "userclickdata3[['instance_id','property_1_pvnum','property_1_first','property_1_last']].to_csv('test1_property_1_pvnum.csv',index=False )\n",
    "del(datatemp)\n",
    "del(userclickdata1)\n",
    "del(userclickdata2)\n",
    "del(userclickdata3)\n",
    "gc.collect()\n",
    "\n",
    "datatemp = []\n",
    "data['item_id_first']=0\n",
    "data['item_id_last']=0\n",
    "for name,num in data[['user_id','item_id','instance_id','context_timestamp','item_id_first','item_id_last']].groupby(['user_id','item_id']):\n",
    "    num = num.reset_index().set_index(['index']).sort_values('context_timestamp')\n",
    "    num =num.reset_index() \n",
    "    num =num.reset_index()\n",
    "    temp = np.array(num.copy()).reshape(-1,8).tolist()\n",
    "    temp[0][-2]=1\n",
    "    temp[-1][-1]=1\n",
    "    datatemp.extend(temp)\n",
    "#     print(np.array(num.copy()).reshape(-1,6))\n",
    "#     print(datatemp.shape)\n",
    "print(time.strftime('%Y-%m-%d %H:%M:%S',time.localtime(time.time())))\n",
    "datatemp = pd.DataFrame(datatemp,columns=['item_id_pvnum','index','user_id','item_id','instance_id','context_timestamp','item_id_first','item_id_last'])\n",
    "userclickdata2 = pd.merge(data2,datatemp,on=['instance_id'],how='left')\n",
    "userclickdata1 = pd.merge(data1,datatemp,on=['instance_id'],how='left')\n",
    "userclickdata3 = pd.merge(data3,datatemp,on=['instance_id'],how='left')\n",
    "userclickdata2[['instance_id','item_id_pvnum','item_id_first','item_id_last']].to_csv('test_item_id_pvnum.csv',index=False )\n",
    "userclickdata1[['instance_id','item_id_pvnum','item_id_first','item_id_last']].to_csv('day_7_item_id_pvnum.csv',index=False )\n",
    "userclickdata3[['instance_id','item_id_pvnum','item_id_first','item_id_last']].to_csv('test1_item_id_pvnum.csv',index=False )\n",
    "del(datatemp)\n",
    "del(userclickdata1)\n",
    "del(userclickdata2)\n",
    "del(userclickdata3)\n",
    "gc.collect()\n",
    "\n",
    "del(data)\n",
    "gc.collect()"
   ]
  },
  {
   "cell_type": "code",
   "execution_count": null,
   "metadata": {
    "collapsed": true
   },
   "outputs": [],
   "source": []
  },
  {
   "cell_type": "code",
   "execution_count": null,
   "metadata": {
    "collapsed": true
   },
   "outputs": [],
   "source": []
  },
  {
   "cell_type": "code",
   "execution_count": null,
   "metadata": {
    "collapsed": true
   },
   "outputs": [],
   "source": []
  },
  {
   "cell_type": "code",
   "execution_count": null,
   "metadata": {
    "collapsed": true
   },
   "outputs": [],
   "source": []
  },
  {
   "cell_type": "code",
   "execution_count": null,
   "metadata": {
    "collapsed": true
   },
   "outputs": [],
   "source": []
  },
  {
   "cell_type": "code",
   "execution_count": null,
   "metadata": {
    "collapsed": true
   },
   "outputs": [],
   "source": []
  },
  {
   "cell_type": "code",
   "execution_count": 10,
   "metadata": {
    "collapsed": true
   },
   "outputs": [],
   "source": [
    "daylist = ['day_1','day_2','day_3','day_4','day_5','day_6','day_7','day_31']"
   ]
  },
  {
   "cell_type": "code",
   "execution_count": 11,
   "metadata": {
    "collapsed": true
   },
   "outputs": [],
   "source": [
    "daylist = ['day_2','day_3','day_4','day_5','day_6','day_7','day_31']"
   ]
  },
  {
   "cell_type": "code",
   "execution_count": 12,
   "metadata": {
    "collapsed": true
   },
   "outputs": [],
   "source": [
    "data_all = pd.read_csv('day_1_user_clickpv.csv',index_col=False)\n",
    "for i in daylist:\n",
    "    data = pd.read_csv(i + '_user_clickpv.csv',index_col=False)\n",
    "    data_all = data_all.append(data)"
   ]
  },
  {
   "cell_type": "code",
   "execution_count": 13,
   "metadata": {},
   "outputs": [
    {
     "data": {
      "text/plain": [
       "(10432036, 4)"
      ]
     },
     "execution_count": 13,
     "metadata": {},
     "output_type": "execute_result"
    }
   ],
   "source": [
    "data_all.shape"
   ]
  },
  {
   "cell_type": "code",
   "execution_count": 14,
   "metadata": {
    "collapsed": true
   },
   "outputs": [],
   "source": [
    "data_all.to_csv('train_user_clickpv.csv',index=False)"
   ]
  },
  {
   "cell_type": "code",
   "execution_count": 15,
   "metadata": {
    "collapsed": true
   },
   "outputs": [],
   "source": [
    "data_all = pd.read_csv('day_1_property_0_pvnum.csv',index_col=False)\n",
    "for i in daylist:\n",
    "    data = pd.read_csv(i + '_property_0_pvnum.csv',index_col=False)\n",
    "    data_all = data_all.append(data)\n",
    "data_all.to_csv('train_property_0_pvnum.csv',index=False)"
   ]
  },
  {
   "cell_type": "code",
   "execution_count": 16,
   "metadata": {},
   "outputs": [
    {
     "data": {
      "text/plain": [
       "(10432036, 4)"
      ]
     },
     "execution_count": 16,
     "metadata": {},
     "output_type": "execute_result"
    }
   ],
   "source": [
    "data_all.shape"
   ]
  },
  {
   "cell_type": "code",
   "execution_count": 17,
   "metadata": {
    "collapsed": true
   },
   "outputs": [],
   "source": [
    "data_all = pd.read_csv('day_1_property_1_pvnum.csv',index_col=False)\n",
    "for i in daylist:\n",
    "    data = pd.read_csv(i + '_property_1_pvnum.csv',index_col=False)\n",
    "    data_all = data_all.append(data)\n",
    "data_all.to_csv('train_property_1_pvnum.csv',index=False)"
   ]
  },
  {
   "cell_type": "code",
   "execution_count": 18,
   "metadata": {},
   "outputs": [
    {
     "data": {
      "text/plain": [
       "(10432036, 4)"
      ]
     },
     "execution_count": 18,
     "metadata": {},
     "output_type": "execute_result"
    }
   ],
   "source": [
    "data_all.shape"
   ]
  },
  {
   "cell_type": "code",
   "execution_count": 19,
   "metadata": {
    "collapsed": true
   },
   "outputs": [],
   "source": [
    "data_all = pd.read_csv('day_1_item_id_pvnum.csv',index_col=False)\n",
    "for i in daylist:\n",
    "    data = pd.read_csv(i + '_item_id_pvnum.csv',index_col=False)\n",
    "    data_all = data_all.append(data)\n",
    "data_all.to_csv('train_item_id_pvnum.csv',index=False)"
   ]
  },
  {
   "cell_type": "code",
   "execution_count": 20,
   "metadata": {},
   "outputs": [
    {
     "data": {
      "text/plain": [
       "(10432036, 4)"
      ]
     },
     "execution_count": 20,
     "metadata": {},
     "output_type": "execute_result"
    }
   ],
   "source": [
    "data_all.shape"
   ]
  },
  {
   "cell_type": "code",
   "execution_count": null,
   "metadata": {
    "collapsed": true
   },
   "outputs": [],
   "source": []
  }
 ],
 "metadata": {
  "kernelspec": {
   "display_name": "Python 3",
   "language": "python",
   "name": "python3"
  },
  "language_info": {
   "codemirror_mode": {
    "name": "ipython",
    "version": 3
   },
   "file_extension": ".py",
   "mimetype": "text/x-python",
   "name": "python",
   "nbconvert_exporter": "python",
   "pygments_lexer": "ipython3",
   "version": "3.6.3"
  }
 },
 "nbformat": 4,
 "nbformat_minor": 2
}
